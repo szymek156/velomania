{
 "cells": [
  {
   "cell_type": "code",
   "execution_count": 34,
   "id": "080ac7bb",
   "metadata": {},
   "outputs": [],
   "source": [
    "import requests"
   ]
  },
  {
   "cell_type": "code",
   "execution_count": 41,
   "id": "56533be9",
   "metadata": {},
   "outputs": [],
   "source": [
    " r = requests.get(\"http://127.0.0.1:2137/stream\", stream=True)"
   ]
  },
  {
   "cell_type": "code",
   "execution_count": 40,
   "id": "e7fae680",
   "metadata": {},
   "outputs": [],
   "source": [
    "for chunk in r.iter_lines():\n",
    "    print(f\"{chunk}\")"
   ]
  },
  {
   "cell_type": "code",
   "execution_count": null,
   "id": "1d3c1e22",
   "metadata": {},
   "outputs": [],
   "source": []
  }
 ],
 "metadata": {
  "kernelspec": {
   "display_name": "Python 3 (ipykernel)",
   "language": "python",
   "name": "python3"
  },
  "language_info": {
   "codemirror_mode": {
    "name": "ipython",
    "version": 3
   },
   "file_extension": ".py",
   "mimetype": "text/x-python",
   "name": "python",
   "nbconvert_exporter": "python",
   "pygments_lexer": "ipython3",
   "version": "3.9.12"
  }
 },
 "nbformat": 4,
 "nbformat_minor": 5
}
