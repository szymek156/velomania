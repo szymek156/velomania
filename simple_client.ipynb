{
 "cells": [
  {
   "cell_type": "code",
   "execution_count": 42,
   "id": "9579a11a",
   "metadata": {},
   "outputs": [],
   "source": [
    "import requests"
   ]
  },
  {
   "cell_type": "code",
   "execution_count": 43,
   "id": "cae32fb1",
   "metadata": {},
   "outputs": [],
   "source": [
    " r = requests.get(\"http://127.0.0.1:2137/workout_state\", stream=True)"
   ]
  },
  {
   "cell_type": "code",
   "execution_count": 44,
   "id": "70e043c3",
   "metadata": {},
   "outputs": [
    {
     "name": "stdout",
     "output_type": "stream",
     "text": [
      "b'{\"total_steps\":11,\"current_step_number\":1,\"total_workout_duration\":{\"secs\":46,\"nanos\":0},\"next_step\":{\"SteadyState\":{\"Duration\":3,\"Power\":0.88}},\"current_power_set\":53,\"ftp_base\":100.0,\"current_step\":{\"duration\":{\"secs\":5,\"nanos\":0},\"step\":{\"Warmup\":{\"Duration\":5,\"PowerLow\":0.45,\"PowerHigh\":0.65}},\"elapsed\":{\"secs\":3,\"nanos\":26790067}},\"current_interval\":null,\"workout_elapsed\":{\"secs\":3,\"nanos\":26789636}}'\n",
      "b'{\"total_steps\":11,\"current_step_number\":1,\"total_workout_duration\":{\"secs\":46,\"nanos\":0},\"next_step\":{\"SteadyState\":{\"Duration\":3,\"Power\":0.88}},\"current_power_set\":57,\"ftp_base\":100.0,\"current_step\":{\"duration\":{\"secs\":5,\"nanos\":0},\"step\":{\"Warmup\":{\"Duration\":5,\"PowerLow\":0.45,\"PowerHigh\":0.65}},\"elapsed\":{\"secs\":4,\"nanos\":26291071}},\"current_interval\":null,\"workout_elapsed\":{\"secs\":4,\"nanos\":26290640}}'\n",
      "b'{\"total_steps\":11,\"current_step_number\":1,\"total_workout_duration\":{\"secs\":46,\"nanos\":0},\"next_step\":{\"SteadyState\":{\"Duration\":3,\"Power\":0.88}},\"current_power_set\":61,\"ftp_base\":100.0,\"current_step\":{\"duration\":{\"secs\":5,\"nanos\":0},\"step\":{\"Warmup\":{\"Duration\":5,\"PowerLow\":0.45,\"PowerHigh\":0.65}},\"elapsed\":{\"secs\":5,\"nanos\":26076759}},\"current_interval\":null,\"workout_elapsed\":{\"secs\":5,\"nanos\":26076328}}'\n",
      "b'{\"total_steps\":11,\"current_step_number\":2,\"total_workout_duration\":{\"secs\":46,\"nanos\":0},\"next_step\":{\"SteadyState\":{\"Duration\":2,\"Power\":0.52}},\"current_power_set\":88,\"ftp_base\":100.0,\"current_step\":{\"duration\":{\"secs\":3,\"nanos\":0},\"step\":{\"SteadyState\":{\"Duration\":3,\"Power\":0.88}},\"elapsed\":{\"secs\":0,\"nanos\":996138952}},\"current_interval\":null,\"workout_elapsed\":{\"secs\":6,\"nanos\":26424265}}'\n",
      "b'{\"total_steps\":11,\"current_step_number\":2,\"total_workout_duration\":{\"secs\":46,\"nanos\":0},\"next_step\":{\"SteadyState\":{\"Duration\":2,\"Power\":0.52}},\"current_power_set\":88,\"ftp_base\":100.0,\"current_step\":{\"duration\":{\"secs\":3,\"nanos\":0},\"step\":{\"SteadyState\":{\"Duration\":3,\"Power\":0.88}},\"elapsed\":{\"secs\":1,\"nanos\":996376886}},\"current_interval\":null,\"workout_elapsed\":{\"secs\":7,\"nanos\":26662199}}'\n",
      "b'{\"total_steps\":11,\"current_step_number\":2,\"total_workout_duration\":{\"secs\":46,\"nanos\":0},\"next_step\":{\"SteadyState\":{\"Duration\":2,\"Power\":0.52}},\"current_power_set\":88,\"ftp_base\":100.0,\"current_step\":{\"duration\":{\"secs\":3,\"nanos\":0},\"step\":{\"SteadyState\":{\"Duration\":3,\"Power\":0.88}},\"elapsed\":{\"secs\":2,\"nanos\":995604019}},\"current_interval\":null,\"workout_elapsed\":{\"secs\":8,\"nanos\":25889332}}'\n",
      "b'{\"total_steps\":11,\"current_step_number\":3,\"total_workout_duration\":{\"secs\":46,\"nanos\":0},\"next_step\":{\"SteadyState\":{\"Duration\":1,\"Power\":0.88}},\"current_power_set\":52,\"ftp_base\":100.0,\"current_step\":{\"duration\":{\"secs\":2,\"nanos\":0},\"step\":{\"SteadyState\":{\"Duration\":2,\"Power\":0.52}},\"elapsed\":{\"secs\":0,\"nanos\":995430707}},\"current_interval\":null,\"workout_elapsed\":{\"secs\":9,\"nanos\":26519357}}'\n",
      "b'{\"total_steps\":11,\"current_step_number\":3,\"total_workout_duration\":{\"secs\":46,\"nanos\":0},\"next_step\":{\"SteadyState\":{\"Duration\":1,\"Power\":0.88}},\"current_power_set\":52,\"ftp_base\":100.0,\"current_step\":{\"duration\":{\"secs\":2,\"nanos\":0},\"step\":{\"SteadyState\":{\"Duration\":2,\"Power\":0.52}},\"elapsed\":{\"secs\":1,\"nanos\":995677742}},\"current_interval\":null,\"workout_elapsed\":{\"secs\":10,\"nanos\":26766392}}'\n",
      "b'{\"total_steps\":11,\"current_step_number\":4,\"total_workout_duration\":{\"secs\":46,\"nanos\":0},\"next_step\":{\"SteadyState\":{\"Duration\":2,\"Power\":0.52}},\"current_power_set\":88,\"ftp_base\":100.0,\"current_step\":{\"duration\":{\"secs\":1,\"nanos\":0},\"step\":{\"SteadyState\":{\"Duration\":1,\"Power\":0.88}},\"elapsed\":{\"secs\":0,\"nanos\":994320120}},\"current_interval\":null,\"workout_elapsed\":{\"secs\":11,\"nanos\":26281363}}'\n",
      "b'{\"total_steps\":11,\"current_step_number\":5,\"total_workout_duration\":{\"secs\":46,\"nanos\":0},\"next_step\":{\"SteadyState\":{\"Duration\":2,\"Power\":0.88}},\"current_power_set\":52,\"ftp_base\":100.0,\"current_step\":{\"duration\":{\"secs\":2,\"nanos\":0},\"step\":{\"SteadyState\":{\"Duration\":2,\"Power\":0.52}},\"elapsed\":{\"secs\":0,\"nanos\":993281725}},\"current_interval\":null,\"workout_elapsed\":{\"secs\":12,\"nanos\":26757636}}'\n",
      "b'{\"total_steps\":11,\"current_step_number\":5,\"total_workout_duration\":{\"secs\":46,\"nanos\":0},\"next_step\":{\"SteadyState\":{\"Duration\":2,\"Power\":0.88}},\"current_power_set\":52,\"ftp_base\":100.0,\"current_step\":{\"duration\":{\"secs\":2,\"nanos\":0},\"step\":{\"SteadyState\":{\"Duration\":2,\"Power\":0.52}},\"elapsed\":{\"secs\":1,\"nanos\":992617476}},\"current_interval\":null,\"workout_elapsed\":{\"secs\":13,\"nanos\":26093387}}'\n",
      "b'{\"total_steps\":11,\"current_step_number\":6,\"total_workout_duration\":{\"secs\":46,\"nanos\":0},\"next_step\":{\"SteadyState\":{\"Duration\":3,\"Power\":0.52}},\"current_power_set\":88,\"ftp_base\":100.0,\"current_step\":{\"duration\":{\"secs\":2,\"nanos\":0},\"step\":{\"SteadyState\":{\"Duration\":2,\"Power\":0.88}},\"elapsed\":{\"secs\":0,\"nanos\":992446043}},\"current_interval\":null,\"workout_elapsed\":{\"secs\":14,\"nanos\":26743554}}'\n",
      "b'{\"total_steps\":11,\"current_step_number\":6,\"total_workout_duration\":{\"secs\":46,\"nanos\":0},\"next_step\":{\"SteadyState\":{\"Duration\":3,\"Power\":0.52}},\"current_power_set\":88,\"ftp_base\":100.0,\"current_step\":{\"duration\":{\"secs\":2,\"nanos\":0},\"step\":{\"SteadyState\":{\"Duration\":2,\"Power\":0.88}},\"elapsed\":{\"secs\":1,\"nanos\":992190377}},\"current_interval\":null,\"workout_elapsed\":{\"secs\":15,\"nanos\":26487888}}'\n",
      "b'{\"total_steps\":11,\"current_step_number\":7,\"total_workout_duration\":{\"secs\":46,\"nanos\":0},\"next_step\":{\"IntervalsT\":{\"Repeat\":5,\"OnDuration\":1,\"OffDuration\":2,\"OnPower\":0.7,\"OffPower\":0.52}},\"current_power_set\":52,\"ftp_base\":100.0,\"current_step\":{\"duration\":{\"secs\":3,\"nanos\":0},\"step\":{\"SteadyState\":{\"Duration\":3,\"Power\":0.52}},\"elapsed\":{\"secs\":0,\"nanos\":990356712}},\"current_interval\":null,\"workout_elapsed\":{\"secs\":16,\"nanos\":26066825}}'\n",
      "b'{\"total_steps\":11,\"current_step_number\":7,\"total_workout_duration\":{\"secs\":46,\"nanos\":0},\"next_step\":{\"IntervalsT\":{\"Repeat\":5,\"OnDuration\":1,\"OffDuration\":2,\"OnPower\":0.7,\"OffPower\":0.52}},\"current_power_set\":52,\"ftp_base\":100.0,\"current_step\":{\"duration\":{\"secs\":3,\"nanos\":0},\"step\":{\"SteadyState\":{\"Duration\":3,\"Power\":0.52}},\"elapsed\":{\"secs\":1,\"nanos\":990837704}},\"current_interval\":null,\"workout_elapsed\":{\"secs\":17,\"nanos\":26547817}}'\n",
      "b'{\"total_steps\":11,\"current_step_number\":7,\"total_workout_duration\":{\"secs\":46,\"nanos\":0},\"next_step\":{\"IntervalsT\":{\"Repeat\":5,\"OnDuration\":1,\"OffDuration\":2,\"OnPower\":0.7,\"OffPower\":0.52}},\"current_power_set\":52,\"ftp_base\":100.0,\"current_step\":{\"duration\":{\"secs\":3,\"nanos\":0},\"step\":{\"SteadyState\":{\"Duration\":3,\"Power\":0.52}},\"elapsed\":{\"secs\":2,\"nanos\":991110402}},\"current_interval\":null,\"workout_elapsed\":{\"secs\":18,\"nanos\":26820515}}'\n",
      "b'{\"total_steps\":11,\"current_step_number\":8,\"total_workout_duration\":{\"secs\":46,\"nanos\":0},\"next_step\":{\"Cooldown\":{\"Duration\":5,\"PowerLow\":0.65,\"PowerHigh\":0.45}},\"current_power_set\":70,\"ftp_base\":100.0,\"current_step\":{\"duration\":{\"secs\":15,\"nanos\":0},\"step\":{\"IntervalsT\":{\"Repeat\":5,\"OnDuration\":1,\"OffDuration\":2,\"OnPower\":0.7,\"OffPower\":0.52}},\"elapsed\":{\"secs\":0,\"nanos\":990319737}},\"current_interval\":{\"repetition\":1,\"is_work_interval\":true,\"elapsed\":{\"secs\":0,\"nanos\":990318492},\"duration\":{\"secs\":1,\"nanos\":0}},\"workout_elapsed\":{\"secs\":19,\"nanos\":26370965}}'\n",
      "b'{\"total_steps\":11,\"current_step_number\":8,\"total_workout_duration\":{\"secs\":46,\"nanos\":0},\"next_step\":{\"Cooldown\":{\"Duration\":5,\"PowerLow\":0.65,\"PowerHigh\":0.45}},\"current_power_set\":52,\"ftp_base\":100.0,\"current_step\":{\"duration\":{\"secs\":15,\"nanos\":0},\"step\":{\"IntervalsT\":{\"Repeat\":5,\"OnDuration\":1,\"OffDuration\":2,\"OnPower\":0.7,\"OffPower\":0.52}},\"elapsed\":{\"secs\":1,\"nanos\":989908587}},\"current_interval\":{\"repetition\":1,\"is_work_interval\":false,\"elapsed\":{\"secs\":0,\"nanos\":988367118},\"duration\":{\"secs\":2,\"nanos\":0}},\"workout_elapsed\":{\"secs\":20,\"nanos\":25959815}}'\n",
      "b'{\"total_steps\":11,\"current_step_number\":8,\"total_workout_duration\":{\"secs\":46,\"nanos\":0},\"next_step\":{\"Cooldown\":{\"Duration\":5,\"PowerLow\":0.65,\"PowerHigh\":0.45}},\"current_power_set\":52,\"ftp_base\":100.0,\"current_step\":{\"duration\":{\"secs\":15,\"nanos\":0},\"step\":{\"IntervalsT\":{\"Repeat\":5,\"OnDuration\":1,\"OffDuration\":2,\"OnPower\":0.7,\"OffPower\":0.52}},\"elapsed\":{\"secs\":2,\"nanos\":990087879}},\"current_interval\":{\"repetition\":1,\"is_work_interval\":false,\"elapsed\":{\"secs\":1,\"nanos\":988546410},\"duration\":{\"secs\":2,\"nanos\":0}},\"workout_elapsed\":{\"secs\":21,\"nanos\":26139107}}'\n"
     ]
    },
    {
     "name": "stdout",
     "output_type": "stream",
     "text": [
      "b'{\"total_steps\":11,\"current_step_number\":8,\"total_workout_duration\":{\"secs\":46,\"nanos\":0},\"next_step\":{\"Cooldown\":{\"Duration\":5,\"PowerLow\":0.65,\"PowerHigh\":0.45}},\"current_power_set\":70,\"ftp_base\":100.0,\"current_step\":{\"duration\":{\"secs\":15,\"nanos\":0},\"step\":{\"IntervalsT\":{\"Repeat\":5,\"OnDuration\":1,\"OffDuration\":2,\"OnPower\":0.7,\"OffPower\":0.52}},\"elapsed\":{\"secs\":3,\"nanos\":990784979}},\"current_interval\":{\"repetition\":2,\"is_work_interval\":true,\"elapsed\":{\"secs\":0,\"nanos\":988441850},\"duration\":{\"secs\":1,\"nanos\":0}},\"workout_elapsed\":{\"secs\":22,\"nanos\":26836207}}'\n",
      "b'{\"total_steps\":11,\"current_step_number\":8,\"total_workout_duration\":{\"secs\":46,\"nanos\":0},\"next_step\":{\"Cooldown\":{\"Duration\":5,\"PowerLow\":0.65,\"PowerHigh\":0.45}},\"current_power_set\":52,\"ftp_base\":100.0,\"current_step\":{\"duration\":{\"secs\":15,\"nanos\":0},\"step\":{\"IntervalsT\":{\"Repeat\":5,\"OnDuration\":1,\"OffDuration\":2,\"OnPower\":0.7,\"OffPower\":0.52}},\"elapsed\":{\"secs\":4,\"nanos\":990831276}},\"current_interval\":{\"repetition\":2,\"is_work_interval\":false,\"elapsed\":{\"secs\":0,\"nanos\":987806755},\"duration\":{\"secs\":2,\"nanos\":0}},\"workout_elapsed\":{\"secs\":23,\"nanos\":26882504}}'\n",
      "b'{\"total_steps\":11,\"current_step_number\":8,\"total_workout_duration\":{\"secs\":46,\"nanos\":0},\"next_step\":{\"Cooldown\":{\"Duration\":5,\"PowerLow\":0.65,\"PowerHigh\":0.45}},\"current_power_set\":52,\"ftp_base\":100.0,\"current_step\":{\"duration\":{\"secs\":15,\"nanos\":0},\"step\":{\"IntervalsT\":{\"Repeat\":5,\"OnDuration\":1,\"OffDuration\":2,\"OnPower\":0.7,\"OffPower\":0.52}},\"elapsed\":{\"secs\":5,\"nanos\":990102037}},\"current_interval\":{\"repetition\":2,\"is_work_interval\":false,\"elapsed\":{\"secs\":1,\"nanos\":987077516},\"duration\":{\"secs\":2,\"nanos\":0}},\"workout_elapsed\":{\"secs\":24,\"nanos\":26153265}}'\n",
      "b'{\"total_steps\":11,\"current_step_number\":8,\"total_workout_duration\":{\"secs\":46,\"nanos\":0},\"next_step\":{\"Cooldown\":{\"Duration\":5,\"PowerLow\":0.65,\"PowerHigh\":0.45}},\"current_power_set\":70,\"ftp_base\":100.0,\"current_step\":{\"duration\":{\"secs\":15,\"nanos\":0},\"step\":{\"IntervalsT\":{\"Repeat\":5,\"OnDuration\":1,\"OffDuration\":2,\"OnPower\":0.7,\"OffPower\":0.52}},\"elapsed\":{\"secs\":6,\"nanos\":989932456}},\"current_interval\":{\"repetition\":3,\"is_work_interval\":true,\"elapsed\":{\"secs\":0,\"nanos\":985598910},\"duration\":{\"secs\":1,\"nanos\":0}},\"workout_elapsed\":{\"secs\":25,\"nanos\":25983684}}'\n",
      "b'{\"total_steps\":11,\"current_step_number\":8,\"total_workout_duration\":{\"secs\":46,\"nanos\":0},\"next_step\":{\"Cooldown\":{\"Duration\":5,\"PowerLow\":0.65,\"PowerHigh\":0.45}},\"current_power_set\":52,\"ftp_base\":100.0,\"current_step\":{\"duration\":{\"secs\":15,\"nanos\":0},\"step\":{\"IntervalsT\":{\"Repeat\":5,\"OnDuration\":1,\"OffDuration\":2,\"OnPower\":0.7,\"OffPower\":0.52}},\"elapsed\":{\"secs\":7,\"nanos\":990572224}},\"current_interval\":{\"repetition\":3,\"is_work_interval\":false,\"elapsed\":{\"secs\":0,\"nanos\":985406554},\"duration\":{\"secs\":2,\"nanos\":0}},\"workout_elapsed\":{\"secs\":26,\"nanos\":26623452}}'\n",
      "b'{\"total_steps\":11,\"current_step_number\":8,\"total_workout_duration\":{\"secs\":46,\"nanos\":0},\"next_step\":{\"Cooldown\":{\"Duration\":5,\"PowerLow\":0.65,\"PowerHigh\":0.45}},\"current_power_set\":52,\"ftp_base\":100.0,\"current_step\":{\"duration\":{\"secs\":15,\"nanos\":0},\"step\":{\"IntervalsT\":{\"Repeat\":5,\"OnDuration\":1,\"OffDuration\":2,\"OnPower\":0.7,\"OffPower\":0.52}},\"elapsed\":{\"secs\":8,\"nanos\":990805021}},\"current_interval\":{\"repetition\":3,\"is_work_interval\":false,\"elapsed\":{\"secs\":1,\"nanos\":985639351},\"duration\":{\"secs\":2,\"nanos\":0}},\"workout_elapsed\":{\"secs\":27,\"nanos\":26856249}}'\n",
      "b'{\"total_steps\":11,\"current_step_number\":8,\"total_workout_duration\":{\"secs\":46,\"nanos\":0},\"next_step\":{\"Cooldown\":{\"Duration\":5,\"PowerLow\":0.65,\"PowerHigh\":0.45}},\"current_power_set\":70,\"ftp_base\":100.0,\"current_step\":{\"duration\":{\"secs\":15,\"nanos\":0},\"step\":{\"IntervalsT\":{\"Repeat\":5,\"OnDuration\":1,\"OffDuration\":2,\"OnPower\":0.7,\"OffPower\":0.52}},\"elapsed\":{\"secs\":9,\"nanos\":990650037}},\"current_interval\":{\"repetition\":4,\"is_work_interval\":true,\"elapsed\":{\"secs\":0,\"nanos\":984644428},\"duration\":{\"secs\":1,\"nanos\":0}},\"workout_elapsed\":{\"secs\":28,\"nanos\":26701265}}'\n",
      "b'{\"total_steps\":11,\"current_step_number\":8,\"total_workout_duration\":{\"secs\":46,\"nanos\":0},\"next_step\":{\"Cooldown\":{\"Duration\":5,\"PowerLow\":0.65,\"PowerHigh\":0.45}},\"current_power_set\":52,\"ftp_base\":100.0,\"current_step\":{\"duration\":{\"secs\":15,\"nanos\":0},\"step\":{\"IntervalsT\":{\"Repeat\":5,\"OnDuration\":1,\"OffDuration\":2,\"OnPower\":0.7,\"OffPower\":0.52}},\"elapsed\":{\"secs\":10,\"nanos\":990538325}},\"current_interval\":{\"repetition\":4,\"is_work_interval\":false,\"elapsed\":{\"secs\":0,\"nanos\":983547490},\"duration\":{\"secs\":2,\"nanos\":0}},\"workout_elapsed\":{\"secs\":29,\"nanos\":26589553}}'\n",
      "b'{\"total_steps\":11,\"current_step_number\":8,\"total_workout_duration\":{\"secs\":46,\"nanos\":0},\"next_step\":{\"Cooldown\":{\"Duration\":5,\"PowerLow\":0.65,\"PowerHigh\":0.45}},\"current_power_set\":52,\"ftp_base\":100.0,\"current_step\":{\"duration\":{\"secs\":15,\"nanos\":0},\"step\":{\"IntervalsT\":{\"Repeat\":5,\"OnDuration\":1,\"OffDuration\":2,\"OnPower\":0.7,\"OffPower\":0.52}},\"elapsed\":{\"secs\":11,\"nanos\":990822012}},\"current_interval\":{\"repetition\":4,\"is_work_interval\":false,\"elapsed\":{\"secs\":1,\"nanos\":983831177},\"duration\":{\"secs\":2,\"nanos\":0}},\"workout_elapsed\":{\"secs\":30,\"nanos\":26873240}}'\n",
      "b'{\"total_steps\":11,\"current_step_number\":8,\"total_workout_duration\":{\"secs\":46,\"nanos\":0},\"next_step\":{\"Cooldown\":{\"Duration\":5,\"PowerLow\":0.65,\"PowerHigh\":0.45}},\"current_power_set\":70,\"ftp_base\":100.0,\"current_step\":{\"duration\":{\"secs\":15,\"nanos\":0},\"step\":{\"IntervalsT\":{\"Repeat\":5,\"OnDuration\":1,\"OffDuration\":2,\"OnPower\":0.7,\"OffPower\":0.52}},\"elapsed\":{\"secs\":12,\"nanos\":990412108}},\"current_interval\":{\"repetition\":5,\"is_work_interval\":true,\"elapsed\":{\"secs\":0,\"nanos\":982340584},\"duration\":{\"secs\":1,\"nanos\":0}},\"workout_elapsed\":{\"secs\":31,\"nanos\":26463336}}'\n",
      "b'{\"total_steps\":11,\"current_step_number\":8,\"total_workout_duration\":{\"secs\":46,\"nanos\":0},\"next_step\":{\"Cooldown\":{\"Duration\":5,\"PowerLow\":0.65,\"PowerHigh\":0.45}},\"current_power_set\":52,\"ftp_base\":100.0,\"current_step\":{\"duration\":{\"secs\":15,\"nanos\":0},\"step\":{\"IntervalsT\":{\"Repeat\":5,\"OnDuration\":1,\"OffDuration\":2,\"OnPower\":0.7,\"OffPower\":0.52}},\"elapsed\":{\"secs\":13,\"nanos\":990106274}},\"current_interval\":{\"repetition\":5,\"is_work_interval\":false,\"elapsed\":{\"secs\":0,\"nanos\":980344518},\"duration\":{\"secs\":2,\"nanos\":0}},\"workout_elapsed\":{\"secs\":32,\"nanos\":26157502}}'\n",
      "b'{\"total_steps\":11,\"current_step_number\":8,\"total_workout_duration\":{\"secs\":46,\"nanos\":0},\"next_step\":{\"Cooldown\":{\"Duration\":5,\"PowerLow\":0.65,\"PowerHigh\":0.45}},\"current_power_set\":52,\"ftp_base\":100.0,\"current_step\":{\"duration\":{\"secs\":15,\"nanos\":0},\"step\":{\"IntervalsT\":{\"Repeat\":5,\"OnDuration\":1,\"OffDuration\":2,\"OnPower\":0.7,\"OffPower\":0.52}},\"elapsed\":{\"secs\":14,\"nanos\":990605896}},\"current_interval\":{\"repetition\":5,\"is_work_interval\":false,\"elapsed\":{\"secs\":1,\"nanos\":980844140},\"duration\":{\"secs\":2,\"nanos\":0}},\"workout_elapsed\":{\"secs\":33,\"nanos\":26657124}}'\n",
      "b'{\"total_steps\":11,\"current_step_number\":9,\"total_workout_duration\":{\"secs\":46,\"nanos\":0},\"next_step\":{\"FreeRide\":{\"Duration\":3,\"FlatRoad\":1.0}},\"current_power_set\":65,\"ftp_base\":100.0,\"current_step\":{\"duration\":{\"secs\":5,\"nanos\":0},\"step\":{\"Cooldown\":{\"Duration\":5,\"PowerLow\":0.65,\"PowerHigh\":0.45}},\"elapsed\":{\"secs\":0,\"nanos\":978382264}},\"current_interval\":null,\"workout_elapsed\":{\"secs\":34,\"nanos\":26279377}}'\n",
      "b'{\"total_steps\":11,\"current_step_number\":9,\"total_workout_duration\":{\"secs\":46,\"nanos\":0},\"next_step\":{\"FreeRide\":{\"Duration\":3,\"FlatRoad\":1.0}},\"current_power_set\":61,\"ftp_base\":100.0,\"current_step\":{\"duration\":{\"secs\":5,\"nanos\":0},\"step\":{\"Cooldown\":{\"Duration\":5,\"PowerLow\":0.65,\"PowerHigh\":0.45}},\"elapsed\":{\"secs\":1,\"nanos\":978162314}},\"current_interval\":null,\"workout_elapsed\":{\"secs\":35,\"nanos\":26059427}}'\n",
      "b'{\"total_steps\":11,\"current_step_number\":9,\"total_workout_duration\":{\"secs\":46,\"nanos\":0},\"next_step\":{\"FreeRide\":{\"Duration\":3,\"FlatRoad\":1.0}},\"current_power_set\":57,\"ftp_base\":100.0,\"current_step\":{\"duration\":{\"secs\":5,\"nanos\":0},\"step\":{\"Cooldown\":{\"Duration\":5,\"PowerLow\":0.65,\"PowerHigh\":0.45}},\"elapsed\":{\"secs\":2,\"nanos\":978823003}},\"current_interval\":null,\"workout_elapsed\":{\"secs\":36,\"nanos\":26720116}}'\n",
      "b'{\"total_steps\":11,\"current_step_number\":9,\"total_workout_duration\":{\"secs\":46,\"nanos\":0},\"next_step\":{\"FreeRide\":{\"Duration\":3,\"FlatRoad\":1.0}},\"current_power_set\":53,\"ftp_base\":100.0,\"current_step\":{\"duration\":{\"secs\":5,\"nanos\":0},\"step\":{\"Cooldown\":{\"Duration\":5,\"PowerLow\":0.65,\"PowerHigh\":0.45}},\"elapsed\":{\"secs\":3,\"nanos\":978428634}},\"current_interval\":null,\"workout_elapsed\":{\"secs\":37,\"nanos\":26325747}}'\n"
     ]
    },
    {
     "name": "stdout",
     "output_type": "stream",
     "text": [
      "b'{\"total_steps\":11,\"current_step_number\":9,\"total_workout_duration\":{\"secs\":46,\"nanos\":0},\"next_step\":{\"FreeRide\":{\"Duration\":3,\"FlatRoad\":1.0}},\"current_power_set\":49,\"ftp_base\":100.0,\"current_step\":{\"duration\":{\"secs\":5,\"nanos\":0},\"step\":{\"Cooldown\":{\"Duration\":5,\"PowerLow\":0.65,\"PowerHigh\":0.45}},\"elapsed\":{\"secs\":4,\"nanos\":978097189}},\"current_interval\":null,\"workout_elapsed\":{\"secs\":38,\"nanos\":25994302}}'\n",
      "b'{\"total_steps\":11,\"current_step_number\":10,\"total_workout_duration\":{\"secs\":46,\"nanos\":0},\"next_step\":{\"Ramp\":{\"Duration\":5,\"PowerLow\":0.45,\"PowerHigh\":0.65}},\"current_power_set\":0,\"ftp_base\":100.0,\"current_step\":{\"duration\":{\"secs\":3,\"nanos\":0},\"step\":{\"FreeRide\":{\"Duration\":3,\"FlatRoad\":1.0}},\"elapsed\":{\"secs\":0,\"nanos\":973275596}},\"current_interval\":null,\"workout_elapsed\":{\"secs\":39,\"nanos\":26474989}}'\n",
      "b'{\"total_steps\":11,\"current_step_number\":10,\"total_workout_duration\":{\"secs\":46,\"nanos\":0},\"next_step\":{\"Ramp\":{\"Duration\":5,\"PowerLow\":0.45,\"PowerHigh\":0.65}},\"current_power_set\":0,\"ftp_base\":100.0,\"current_step\":{\"duration\":{\"secs\":3,\"nanos\":0},\"step\":{\"FreeRide\":{\"Duration\":3,\"FlatRoad\":1.0}},\"elapsed\":{\"secs\":1,\"nanos\":973570514}},\"current_interval\":null,\"workout_elapsed\":{\"secs\":40,\"nanos\":26769907}}'\n",
      "b'{\"total_steps\":11,\"current_step_number\":10,\"total_workout_duration\":{\"secs\":46,\"nanos\":0},\"next_step\":{\"Ramp\":{\"Duration\":5,\"PowerLow\":0.45,\"PowerHigh\":0.65}},\"current_power_set\":0,\"ftp_base\":100.0,\"current_step\":{\"duration\":{\"secs\":3,\"nanos\":0},\"step\":{\"FreeRide\":{\"Duration\":3,\"FlatRoad\":1.0}},\"elapsed\":{\"secs\":2,\"nanos\":972954154}},\"current_interval\":null,\"workout_elapsed\":{\"secs\":41,\"nanos\":26153547}}'\n",
      "b'{\"total_steps\":11,\"current_step_number\":11,\"total_workout_duration\":{\"secs\":46,\"nanos\":0},\"next_step\":null,\"current_power_set\":45,\"ftp_base\":100.0,\"current_step\":{\"duration\":{\"secs\":5,\"nanos\":0},\"step\":{\"Ramp\":{\"Duration\":5,\"PowerLow\":0.45,\"PowerHigh\":0.65}},\"elapsed\":{\"secs\":0,\"nanos\":972316119}},\"current_interval\":null,\"workout_elapsed\":{\"secs\":42,\"nanos\":26678998}}'\n",
      "b'{\"total_steps\":11,\"current_step_number\":11,\"total_workout_duration\":{\"secs\":46,\"nanos\":0},\"next_step\":null,\"current_power_set\":49,\"ftp_base\":100.0,\"current_step\":{\"duration\":{\"secs\":5,\"nanos\":0},\"step\":{\"Ramp\":{\"Duration\":5,\"PowerLow\":0.45,\"PowerHigh\":0.65}},\"elapsed\":{\"secs\":1,\"nanos\":972012843}},\"current_interval\":null,\"workout_elapsed\":{\"secs\":43,\"nanos\":26375722}}'\n",
      "b'{\"total_steps\":11,\"current_step_number\":11,\"total_workout_duration\":{\"secs\":46,\"nanos\":0},\"next_step\":null,\"current_power_set\":53,\"ftp_base\":100.0,\"current_step\":{\"duration\":{\"secs\":5,\"nanos\":0},\"step\":{\"Ramp\":{\"Duration\":5,\"PowerLow\":0.45,\"PowerHigh\":0.65}},\"elapsed\":{\"secs\":2,\"nanos\":972506553}},\"current_interval\":null,\"workout_elapsed\":{\"secs\":44,\"nanos\":26869432}}'\n",
      "b'{\"total_steps\":11,\"current_step_number\":11,\"total_workout_duration\":{\"secs\":46,\"nanos\":0},\"next_step\":null,\"current_power_set\":57,\"ftp_base\":100.0,\"current_step\":{\"duration\":{\"secs\":5,\"nanos\":0},\"step\":{\"Ramp\":{\"Duration\":5,\"PowerLow\":0.45,\"PowerHigh\":0.65}},\"elapsed\":{\"secs\":3,\"nanos\":972039357}},\"current_interval\":null,\"workout_elapsed\":{\"secs\":45,\"nanos\":26402236}}'\n",
      "b'{\"total_steps\":11,\"current_step_number\":11,\"total_workout_duration\":{\"secs\":46,\"nanos\":0},\"next_step\":null,\"current_power_set\":61,\"ftp_base\":100.0,\"current_step\":{\"duration\":{\"secs\":5,\"nanos\":0},\"step\":{\"Ramp\":{\"Duration\":5,\"PowerLow\":0.45,\"PowerHigh\":0.65}},\"elapsed\":{\"secs\":4,\"nanos\":971726230}},\"current_interval\":null,\"workout_elapsed\":{\"secs\":46,\"nanos\":26089109}}'\n"
     ]
    }
   ],
   "source": [
    "for chunk in r.iter_lines():\n",
    "    print(f\"{chunk}\")"
   ]
  },
  {
   "cell_type": "code",
   "execution_count": null,
   "id": "eb061587",
   "metadata": {},
   "outputs": [],
   "source": []
  }
 ],
 "metadata": {
  "kernelspec": {
   "display_name": "Python 3 (ipykernel)",
   "language": "python",
   "name": "python3"
  },
  "language_info": {
   "codemirror_mode": {
    "name": "ipython",
    "version": 3
   },
   "file_extension": ".py",
   "mimetype": "text/x-python",
   "name": "python",
   "nbconvert_exporter": "python",
   "pygments_lexer": "ipython3",
   "version": "3.9.12"
  }
 },
 "nbformat": 4,
 "nbformat_minor": 5
}
