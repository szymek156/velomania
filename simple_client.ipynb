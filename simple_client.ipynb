{
 "cells": [
  {
   "cell_type": "code",
   "execution_count": 41,
   "id": "9579a11a",
   "metadata": {},
   "outputs": [],
   "source": [
    "import requests\n",
    "from websocket import create_connection"
   ]
  },
  {
   "cell_type": "code",
   "execution_count": 14,
   "id": "cae32fb1",
   "metadata": {},
   "outputs": [],
   "source": [
    " r = requests.get(\"http://127.0.0.1:2137/ws\")"
   ]
  },
  {
   "cell_type": "code",
   "execution_count": 40,
   "id": "70e043c3",
   "metadata": {},
   "outputs": [],
   "source": [
    "for chunk in r.iter_lines():\n",
    "    print(f\"{chunk}\")"
   ]
  },
  {
   "cell_type": "code",
   "execution_count": null,
   "id": "17f0b848",
   "metadata": {},
   "outputs": [],
   "source": []
  },
  {
   "cell_type": "code",
   "execution_count": 39,
   "id": "eb061587",
   "metadata": {},
   "outputs": [],
   "source": []
  },
  {
   "cell_type": "code",
   "execution_count": 43,
   "id": "b603049b",
   "metadata": {},
   "outputs": [],
   "source": [
    "ws = create_connection(\"ws://127.0.0.1:2137/ws\")"
   ]
  },
  {
   "cell_type": "code",
   "execution_count": null,
   "id": "051100ec",
   "metadata": {},
   "outputs": [
    {
     "name": "stdout",
     "output_type": "stream",
     "text": [
      "{\"total_steps\":2,\"current_step_number\":1,\"total_workout_duration\":{\"secs\":4800,\"nanos\":0},\"next_step\":{\"IntervalsT\":{\"Repeat\":2,\"OnDuration\":1500,\"OffDuration\":600,\"OnPower\":0.73,\"OffPower\":0.52}},\"current_power_set\":108,\"ftp_base\":200.0,\"current_step\":{\"duration\":{\"secs\":600,\"nanos\":0},\"step\":{\"Warmup\":{\"Duration\":600,\"PowerLow\":0.5,\"PowerHigh\":0.55}},\"elapsed\":{\"secs\":457,\"nanos\":13157315}},\"current_interval\":null,\"workout_elapsed\":{\"secs\":457,\"nanos\":13156973}}\n",
      "{\"total_steps\":2,\"current_step_number\":1,\"total_workout_duration\":{\"secs\":4800,\"nanos\":0},\"next_step\":{\"IntervalsT\":{\"Repeat\":2,\"OnDuration\":1500,\"OffDuration\":600,\"OnPower\":0.73,\"OffPower\":0.52}},\"current_power_set\":108,\"ftp_base\":200.0,\"current_step\":{\"duration\":{\"secs\":600,\"nanos\":0},\"step\":{\"Warmup\":{\"Duration\":600,\"PowerLow\":0.5,\"PowerHigh\":0.55}},\"elapsed\":{\"secs\":458,\"nanos\":14082592}},\"current_interval\":null,\"workout_elapsed\":{\"secs\":458,\"nanos\":14082250}}\n",
      "{\"total_steps\":2,\"current_step_number\":1,\"total_workout_duration\":{\"secs\":4800,\"nanos\":0},\"next_step\":{\"IntervalsT\":{\"Repeat\":2,\"OnDuration\":1500,\"OffDuration\":600,\"OnPower\":0.73,\"OffPower\":0.52}},\"current_power_set\":108,\"ftp_base\":200.0,\"current_step\":{\"duration\":{\"secs\":600,\"nanos\":0},\"step\":{\"Warmup\":{\"Duration\":600,\"PowerLow\":0.5,\"PowerHigh\":0.55}},\"elapsed\":{\"secs\":459,\"nanos\":13196830}},\"current_interval\":null,\"workout_elapsed\":{\"secs\":459,\"nanos\":13196488}}\n",
      "{\"total_steps\":2,\"current_step_number\":1,\"total_workout_duration\":{\"secs\":4800,\"nanos\":0},\"next_step\":{\"IntervalsT\":{\"Repeat\":2,\"OnDuration\":1500,\"OffDuration\":600,\"OnPower\":0.73,\"OffPower\":0.52}},\"current_power_set\":108,\"ftp_base\":200.0,\"current_step\":{\"duration\":{\"secs\":600,\"nanos\":0},\"step\":{\"Warmup\":{\"Duration\":600,\"PowerLow\":0.5,\"PowerHigh\":0.55}},\"elapsed\":{\"secs\":460,\"nanos\":13709419}},\"current_interval\":null,\"workout_elapsed\":{\"secs\":460,\"nanos\":13709077}}\n",
      "{\"total_steps\":2,\"current_step_number\":1,\"total_workout_duration\":{\"secs\":4800,\"nanos\":0},\"next_step\":{\"IntervalsT\":{\"Repeat\":2,\"OnDuration\":1500,\"OffDuration\":600,\"OnPower\":0.73,\"OffPower\":0.52}},\"current_power_set\":108,\"ftp_base\":200.0,\"current_step\":{\"duration\":{\"secs\":600,\"nanos\":0},\"step\":{\"Warmup\":{\"Duration\":600,\"PowerLow\":0.5,\"PowerHigh\":0.55}},\"elapsed\":{\"secs\":461,\"nanos\":13129324}},\"current_interval\":null,\"workout_elapsed\":{\"secs\":461,\"nanos\":13128982}}\n",
      "{\"total_steps\":2,\"current_step_number\":1,\"total_workout_duration\":{\"secs\":4800,\"nanos\":0},\"next_step\":{\"IntervalsT\":{\"Repeat\":2,\"OnDuration\":1500,\"OffDuration\":600,\"OnPower\":0.73,\"OffPower\":0.52}},\"current_power_set\":108,\"ftp_base\":200.0,\"current_step\":{\"duration\":{\"secs\":600,\"nanos\":0},\"step\":{\"Warmup\":{\"Duration\":600,\"PowerLow\":0.5,\"PowerHigh\":0.55}},\"elapsed\":{\"secs\":462,\"nanos\":13540617}},\"current_interval\":null,\"workout_elapsed\":{\"secs\":462,\"nanos\":13540275}}\n",
      "{\"total_steps\":2,\"current_step_number\":1,\"total_workout_duration\":{\"secs\":4800,\"nanos\":0},\"next_step\":{\"IntervalsT\":{\"Repeat\":2,\"OnDuration\":1500,\"OffDuration\":600,\"OnPower\":0.73,\"OffPower\":0.52}},\"current_power_set\":108,\"ftp_base\":200.0,\"current_step\":{\"duration\":{\"secs\":600,\"nanos\":0},\"step\":{\"Warmup\":{\"Duration\":600,\"PowerLow\":0.5,\"PowerHigh\":0.55}},\"elapsed\":{\"secs\":463,\"nanos\":13543748}},\"current_interval\":null,\"workout_elapsed\":{\"secs\":463,\"nanos\":13543406}}\n",
      "{\"total_steps\":2,\"current_step_number\":1,\"total_workout_duration\":{\"secs\":4800,\"nanos\":0},\"next_step\":{\"IntervalsT\":{\"Repeat\":2,\"OnDuration\":1500,\"OffDuration\":600,\"OnPower\":0.73,\"OffPower\":0.52}},\"current_power_set\":108,\"ftp_base\":200.0,\"current_step\":{\"duration\":{\"secs\":600,\"nanos\":0},\"step\":{\"Warmup\":{\"Duration\":600,\"PowerLow\":0.5,\"PowerHigh\":0.55}},\"elapsed\":{\"secs\":464,\"nanos\":13226421}},\"current_interval\":null,\"workout_elapsed\":{\"secs\":464,\"nanos\":13226079}}\n",
      "{\"total_steps\":2,\"current_step_number\":1,\"total_workout_duration\":{\"secs\":4800,\"nanos\":0},\"next_step\":{\"IntervalsT\":{\"Repeat\":2,\"OnDuration\":1500,\"OffDuration\":600,\"OnPower\":0.73,\"OffPower\":0.52}},\"current_power_set\":108,\"ftp_base\":200.0,\"current_step\":{\"duration\":{\"secs\":600,\"nanos\":0},\"step\":{\"Warmup\":{\"Duration\":600,\"PowerLow\":0.5,\"PowerHigh\":0.55}},\"elapsed\":{\"secs\":465,\"nanos\":13140252}},\"current_interval\":null,\"workout_elapsed\":{\"secs\":465,\"nanos\":13139910}}\n",
      "{\"total_steps\":2,\"current_step_number\":1,\"total_workout_duration\":{\"secs\":4800,\"nanos\":0},\"next_step\":{\"IntervalsT\":{\"Repeat\":2,\"OnDuration\":1500,\"OffDuration\":600,\"OnPower\":0.73,\"OffPower\":0.52}},\"current_power_set\":108,\"ftp_base\":200.0,\"current_step\":{\"duration\":{\"secs\":600,\"nanos\":0},\"step\":{\"Warmup\":{\"Duration\":600,\"PowerLow\":0.5,\"PowerHigh\":0.55}},\"elapsed\":{\"secs\":466,\"nanos\":14222875}},\"current_interval\":null,\"workout_elapsed\":{\"secs\":466,\"nanos\":14222533}}\n",
      "{\"total_steps\":2,\"current_step_number\":1,\"total_workout_duration\":{\"secs\":4800,\"nanos\":0},\"next_step\":{\"IntervalsT\":{\"Repeat\":2,\"OnDuration\":1500,\"OffDuration\":600,\"OnPower\":0.73,\"OffPower\":0.52}},\"current_power_set\":108,\"ftp_base\":200.0,\"current_step\":{\"duration\":{\"secs\":600,\"nanos\":0},\"step\":{\"Warmup\":{\"Duration\":600,\"PowerLow\":0.5,\"PowerHigh\":0.55}},\"elapsed\":{\"secs\":467,\"nanos\":13268510}},\"current_interval\":null,\"workout_elapsed\":{\"secs\":467,\"nanos\":13268168}}\n",
      "{\"total_steps\":2,\"current_step_number\":1,\"total_workout_duration\":{\"secs\":4800,\"nanos\":0},\"next_step\":{\"IntervalsT\":{\"Repeat\":2,\"OnDuration\":1500,\"OffDuration\":600,\"OnPower\":0.73,\"OffPower\":0.52}},\"current_power_set\":108,\"ftp_base\":200.0,\"current_step\":{\"duration\":{\"secs\":600,\"nanos\":0},\"step\":{\"Warmup\":{\"Duration\":600,\"PowerLow\":0.5,\"PowerHigh\":0.55}},\"elapsed\":{\"secs\":468,\"nanos\":13432775}},\"current_interval\":null,\"workout_elapsed\":{\"secs\":468,\"nanos\":13432433}}\n",
      "{\"total_steps\":2,\"current_step_number\":1,\"total_workout_duration\":{\"secs\":4800,\"nanos\":0},\"next_step\":{\"IntervalsT\":{\"Repeat\":2,\"OnDuration\":1500,\"OffDuration\":600,\"OnPower\":0.73,\"OffPower\":0.52}},\"current_power_set\":108,\"ftp_base\":200.0,\"current_step\":{\"duration\":{\"secs\":600,\"nanos\":0},\"step\":{\"Warmup\":{\"Duration\":600,\"PowerLow\":0.5,\"PowerHigh\":0.55}},\"elapsed\":{\"secs\":469,\"nanos\":13628920}},\"current_interval\":null,\"workout_elapsed\":{\"secs\":469,\"nanos\":13628578}}\n",
      "{\"total_steps\":2,\"current_step_number\":1,\"total_workout_duration\":{\"secs\":4800,\"nanos\":0},\"next_step\":{\"IntervalsT\":{\"Repeat\":2,\"OnDuration\":1500,\"OffDuration\":600,\"OnPower\":0.73,\"OffPower\":0.52}},\"current_power_set\":108,\"ftp_base\":200.0,\"current_step\":{\"duration\":{\"secs\":600,\"nanos\":0},\"step\":{\"Warmup\":{\"Duration\":600,\"PowerLow\":0.5,\"PowerHigh\":0.55}},\"elapsed\":{\"secs\":470,\"nanos\":14049874}},\"current_interval\":null,\"workout_elapsed\":{\"secs\":470,\"nanos\":14049532}}\n",
      "{\"total_steps\":2,\"current_step_number\":1,\"total_workout_duration\":{\"secs\":4800,\"nanos\":0},\"next_step\":{\"IntervalsT\":{\"Repeat\":2,\"OnDuration\":1500,\"OffDuration\":600,\"OnPower\":0.73,\"OffPower\":0.52}},\"current_power_set\":108,\"ftp_base\":200.0,\"current_step\":{\"duration\":{\"secs\":600,\"nanos\":0},\"step\":{\"Warmup\":{\"Duration\":600,\"PowerLow\":0.5,\"PowerHigh\":0.55}},\"elapsed\":{\"secs\":471,\"nanos\":13847945}},\"current_interval\":null,\"workout_elapsed\":{\"secs\":471,\"nanos\":13847603}}\n",
      "{\"total_steps\":2,\"current_step_number\":1,\"total_workout_duration\":{\"secs\":4800,\"nanos\":0},\"next_step\":{\"IntervalsT\":{\"Repeat\":2,\"OnDuration\":1500,\"OffDuration\":600,\"OnPower\":0.73,\"OffPower\":0.52}},\"current_power_set\":108,\"ftp_base\":200.0,\"current_step\":{\"duration\":{\"secs\":600,\"nanos\":0},\"step\":{\"Warmup\":{\"Duration\":600,\"PowerLow\":0.5,\"PowerHigh\":0.55}},\"elapsed\":{\"secs\":472,\"nanos\":14096545}},\"current_interval\":null,\"workout_elapsed\":{\"secs\":472,\"nanos\":14096203}}\n",
      "{\"total_steps\":2,\"current_step_number\":1,\"total_workout_duration\":{\"secs\":4800,\"nanos\":0},\"next_step\":{\"IntervalsT\":{\"Repeat\":2,\"OnDuration\":1500,\"OffDuration\":600,\"OnPower\":0.73,\"OffPower\":0.52}},\"current_power_set\":108,\"ftp_base\":200.0,\"current_step\":{\"duration\":{\"secs\":600,\"nanos\":0},\"step\":{\"Warmup\":{\"Duration\":600,\"PowerLow\":0.5,\"PowerHigh\":0.55}},\"elapsed\":{\"secs\":473,\"nanos\":13759151}},\"current_interval\":null,\"workout_elapsed\":{\"secs\":473,\"nanos\":13758809}}\n",
      "{\"total_steps\":2,\"current_step_number\":1,\"total_workout_duration\":{\"secs\":4800,\"nanos\":0},\"next_step\":{\"IntervalsT\":{\"Repeat\":2,\"OnDuration\":1500,\"OffDuration\":600,\"OnPower\":0.73,\"OffPower\":0.52}},\"current_power_set\":108,\"ftp_base\":200.0,\"current_step\":{\"duration\":{\"secs\":600,\"nanos\":0},\"step\":{\"Warmup\":{\"Duration\":600,\"PowerLow\":0.5,\"PowerHigh\":0.55}},\"elapsed\":{\"secs\":474,\"nanos\":13694771}},\"current_interval\":null,\"workout_elapsed\":{\"secs\":474,\"nanos\":13694429}}\n"
     ]
    },
    {
     "name": "stdout",
     "output_type": "stream",
     "text": [
      "{\"total_steps\":2,\"current_step_number\":1,\"total_workout_duration\":{\"secs\":4800,\"nanos\":0},\"next_step\":{\"IntervalsT\":{\"Repeat\":2,\"OnDuration\":1500,\"OffDuration\":600,\"OnPower\":0.73,\"OffPower\":0.52}},\"current_power_set\":108,\"ftp_base\":200.0,\"current_step\":{\"duration\":{\"secs\":600,\"nanos\":0},\"step\":{\"Warmup\":{\"Duration\":600,\"PowerLow\":0.5,\"PowerHigh\":0.55}},\"elapsed\":{\"secs\":475,\"nanos\":14055397}},\"current_interval\":null,\"workout_elapsed\":{\"secs\":475,\"nanos\":14055055}}\n",
      "{\"total_steps\":2,\"current_step_number\":1,\"total_workout_duration\":{\"secs\":4800,\"nanos\":0},\"next_step\":{\"IntervalsT\":{\"Repeat\":2,\"OnDuration\":1500,\"OffDuration\":600,\"OnPower\":0.73,\"OffPower\":0.52}},\"current_power_set\":108,\"ftp_base\":200.0,\"current_step\":{\"duration\":{\"secs\":600,\"nanos\":0},\"step\":{\"Warmup\":{\"Duration\":600,\"PowerLow\":0.5,\"PowerHigh\":0.55}},\"elapsed\":{\"secs\":476,\"nanos\":13823453}},\"current_interval\":null,\"workout_elapsed\":{\"secs\":476,\"nanos\":13823111}}\n",
      "{\"total_steps\":2,\"current_step_number\":1,\"total_workout_duration\":{\"secs\":4800,\"nanos\":0},\"next_step\":{\"IntervalsT\":{\"Repeat\":2,\"OnDuration\":1500,\"OffDuration\":600,\"OnPower\":0.73,\"OffPower\":0.52}},\"current_power_set\":108,\"ftp_base\":200.0,\"current_step\":{\"duration\":{\"secs\":600,\"nanos\":0},\"step\":{\"Warmup\":{\"Duration\":600,\"PowerLow\":0.5,\"PowerHigh\":0.55}},\"elapsed\":{\"secs\":477,\"nanos\":13650545}},\"current_interval\":null,\"workout_elapsed\":{\"secs\":477,\"nanos\":13650203}}\n",
      "{\"total_steps\":2,\"current_step_number\":1,\"total_workout_duration\":{\"secs\":4800,\"nanos\":0},\"next_step\":{\"IntervalsT\":{\"Repeat\":2,\"OnDuration\":1500,\"OffDuration\":600,\"OnPower\":0.73,\"OffPower\":0.52}},\"current_power_set\":108,\"ftp_base\":200.0,\"current_step\":{\"duration\":{\"secs\":600,\"nanos\":0},\"step\":{\"Warmup\":{\"Duration\":600,\"PowerLow\":0.5,\"PowerHigh\":0.55}},\"elapsed\":{\"secs\":478,\"nanos\":13228015}},\"current_interval\":null,\"workout_elapsed\":{\"secs\":478,\"nanos\":13227673}}\n",
      "{\"total_steps\":2,\"current_step_number\":1,\"total_workout_duration\":{\"secs\":4800,\"nanos\":0},\"next_step\":{\"IntervalsT\":{\"Repeat\":2,\"OnDuration\":1500,\"OffDuration\":600,\"OnPower\":0.73,\"OffPower\":0.52}},\"current_power_set\":108,\"ftp_base\":200.0,\"current_step\":{\"duration\":{\"secs\":600,\"nanos\":0},\"step\":{\"Warmup\":{\"Duration\":600,\"PowerLow\":0.5,\"PowerHigh\":0.55}},\"elapsed\":{\"secs\":479,\"nanos\":13908109}},\"current_interval\":null,\"workout_elapsed\":{\"secs\":479,\"nanos\":13907767}}\n",
      "{\"total_steps\":2,\"current_step_number\":1,\"total_workout_duration\":{\"secs\":4800,\"nanos\":0},\"next_step\":{\"IntervalsT\":{\"Repeat\":2,\"OnDuration\":1500,\"OffDuration\":600,\"OnPower\":0.73,\"OffPower\":0.52}},\"current_power_set\":108,\"ftp_base\":200.0,\"current_step\":{\"duration\":{\"secs\":600,\"nanos\":0},\"step\":{\"Warmup\":{\"Duration\":600,\"PowerLow\":0.5,\"PowerHigh\":0.55}},\"elapsed\":{\"secs\":480,\"nanos\":13187779}},\"current_interval\":null,\"workout_elapsed\":{\"secs\":480,\"nanos\":13187437}}\n",
      "{\"total_steps\":2,\"current_step_number\":1,\"total_workout_duration\":{\"secs\":4800,\"nanos\":0},\"next_step\":{\"IntervalsT\":{\"Repeat\":2,\"OnDuration\":1500,\"OffDuration\":600,\"OnPower\":0.73,\"OffPower\":0.52}},\"current_power_set\":108,\"ftp_base\":200.0,\"current_step\":{\"duration\":{\"secs\":600,\"nanos\":0},\"step\":{\"Warmup\":{\"Duration\":600,\"PowerLow\":0.5,\"PowerHigh\":0.55}},\"elapsed\":{\"secs\":481,\"nanos\":13138707}},\"current_interval\":null,\"workout_elapsed\":{\"secs\":481,\"nanos\":13138365}}\n",
      "{\"total_steps\":2,\"current_step_number\":1,\"total_workout_duration\":{\"secs\":4800,\"nanos\":0},\"next_step\":{\"IntervalsT\":{\"Repeat\":2,\"OnDuration\":1500,\"OffDuration\":600,\"OnPower\":0.73,\"OffPower\":0.52}},\"current_power_set\":108,\"ftp_base\":200.0,\"current_step\":{\"duration\":{\"secs\":600,\"nanos\":0},\"step\":{\"Warmup\":{\"Duration\":600,\"PowerLow\":0.5,\"PowerHigh\":0.55}},\"elapsed\":{\"secs\":482,\"nanos\":14039277}},\"current_interval\":null,\"workout_elapsed\":{\"secs\":482,\"nanos\":14038935}}\n",
      "{\"total_steps\":2,\"current_step_number\":1,\"total_workout_duration\":{\"secs\":4800,\"nanos\":0},\"next_step\":{\"IntervalsT\":{\"Repeat\":2,\"OnDuration\":1500,\"OffDuration\":600,\"OnPower\":0.73,\"OffPower\":0.52}},\"current_power_set\":108,\"ftp_base\":200.0,\"current_step\":{\"duration\":{\"secs\":600,\"nanos\":0},\"step\":{\"Warmup\":{\"Duration\":600,\"PowerLow\":0.5,\"PowerHigh\":0.55}},\"elapsed\":{\"secs\":483,\"nanos\":13179663}},\"current_interval\":null,\"workout_elapsed\":{\"secs\":483,\"nanos\":13179321}}\n",
      "{\"total_steps\":2,\"current_step_number\":1,\"total_workout_duration\":{\"secs\":4800,\"nanos\":0},\"next_step\":{\"IntervalsT\":{\"Repeat\":2,\"OnDuration\":1500,\"OffDuration\":600,\"OnPower\":0.73,\"OffPower\":0.52}},\"current_power_set\":108,\"ftp_base\":200.0,\"current_step\":{\"duration\":{\"secs\":600,\"nanos\":0},\"step\":{\"Warmup\":{\"Duration\":600,\"PowerLow\":0.5,\"PowerHigh\":0.55}},\"elapsed\":{\"secs\":484,\"nanos\":13251520}},\"current_interval\":null,\"workout_elapsed\":{\"secs\":484,\"nanos\":13251178}}\n",
      "{\"total_steps\":2,\"current_step_number\":1,\"total_workout_duration\":{\"secs\":4800,\"nanos\":0},\"next_step\":{\"IntervalsT\":{\"Repeat\":2,\"OnDuration\":1500,\"OffDuration\":600,\"OnPower\":0.73,\"OffPower\":0.52}},\"current_power_set\":108,\"ftp_base\":200.0,\"current_step\":{\"duration\":{\"secs\":600,\"nanos\":0},\"step\":{\"Warmup\":{\"Duration\":600,\"PowerLow\":0.5,\"PowerHigh\":0.55}},\"elapsed\":{\"secs\":485,\"nanos\":13726911}},\"current_interval\":null,\"workout_elapsed\":{\"secs\":485,\"nanos\":13726569}}\n",
      "{\"total_steps\":2,\"current_step_number\":1,\"total_workout_duration\":{\"secs\":4800,\"nanos\":0},\"next_step\":{\"IntervalsT\":{\"Repeat\":2,\"OnDuration\":1500,\"OffDuration\":600,\"OnPower\":0.73,\"OffPower\":0.52}},\"current_power_set\":108,\"ftp_base\":200.0,\"current_step\":{\"duration\":{\"secs\":600,\"nanos\":0},\"step\":{\"Warmup\":{\"Duration\":600,\"PowerLow\":0.5,\"PowerHigh\":0.55}},\"elapsed\":{\"secs\":486,\"nanos\":13939209}},\"current_interval\":null,\"workout_elapsed\":{\"secs\":486,\"nanos\":13938867}}\n",
      "{\"total_steps\":2,\"current_step_number\":1,\"total_workout_duration\":{\"secs\":4800,\"nanos\":0},\"next_step\":{\"IntervalsT\":{\"Repeat\":2,\"OnDuration\":1500,\"OffDuration\":600,\"OnPower\":0.73,\"OffPower\":0.52}},\"current_power_set\":108,\"ftp_base\":200.0,\"current_step\":{\"duration\":{\"secs\":600,\"nanos\":0},\"step\":{\"Warmup\":{\"Duration\":600,\"PowerLow\":0.5,\"PowerHigh\":0.55}},\"elapsed\":{\"secs\":487,\"nanos\":13649693}},\"current_interval\":null,\"workout_elapsed\":{\"secs\":487,\"nanos\":13649351}}\n",
      "{\"total_steps\":2,\"current_step_number\":1,\"total_workout_duration\":{\"secs\":4800,\"nanos\":0},\"next_step\":{\"IntervalsT\":{\"Repeat\":2,\"OnDuration\":1500,\"OffDuration\":600,\"OnPower\":0.73,\"OffPower\":0.52}},\"current_power_set\":108,\"ftp_base\":200.0,\"current_step\":{\"duration\":{\"secs\":600,\"nanos\":0},\"step\":{\"Warmup\":{\"Duration\":600,\"PowerLow\":0.5,\"PowerHigh\":0.55}},\"elapsed\":{\"secs\":488,\"nanos\":13988923}},\"current_interval\":null,\"workout_elapsed\":{\"secs\":488,\"nanos\":13988581}}\n",
      "{\"total_steps\":2,\"current_step_number\":1,\"total_workout_duration\":{\"secs\":4800,\"nanos\":0},\"next_step\":{\"IntervalsT\":{\"Repeat\":2,\"OnDuration\":1500,\"OffDuration\":600,\"OnPower\":0.73,\"OffPower\":0.52}},\"current_power_set\":108,\"ftp_base\":200.0,\"current_step\":{\"duration\":{\"secs\":600,\"nanos\":0},\"step\":{\"Warmup\":{\"Duration\":600,\"PowerLow\":0.5,\"PowerHigh\":0.55}},\"elapsed\":{\"secs\":489,\"nanos\":13902867}},\"current_interval\":null,\"workout_elapsed\":{\"secs\":489,\"nanos\":13902525}}\n",
      "{\"total_steps\":2,\"current_step_number\":1,\"total_workout_duration\":{\"secs\":4800,\"nanos\":0},\"next_step\":{\"IntervalsT\":{\"Repeat\":2,\"OnDuration\":1500,\"OffDuration\":600,\"OnPower\":0.73,\"OffPower\":0.52}},\"current_power_set\":108,\"ftp_base\":200.0,\"current_step\":{\"duration\":{\"secs\":600,\"nanos\":0},\"step\":{\"Warmup\":{\"Duration\":600,\"PowerLow\":0.5,\"PowerHigh\":0.55}},\"elapsed\":{\"secs\":490,\"nanos\":13888773}},\"current_interval\":null,\"workout_elapsed\":{\"secs\":490,\"nanos\":13888431}}\n",
      "{\"total_steps\":2,\"current_step_number\":1,\"total_workout_duration\":{\"secs\":4800,\"nanos\":0},\"next_step\":{\"IntervalsT\":{\"Repeat\":2,\"OnDuration\":1500,\"OffDuration\":600,\"OnPower\":0.73,\"OffPower\":0.52}},\"current_power_set\":108,\"ftp_base\":200.0,\"current_step\":{\"duration\":{\"secs\":600,\"nanos\":0},\"step\":{\"Warmup\":{\"Duration\":600,\"PowerLow\":0.5,\"PowerHigh\":0.55}},\"elapsed\":{\"secs\":491,\"nanos\":13301054}},\"current_interval\":null,\"workout_elapsed\":{\"secs\":491,\"nanos\":13300712}}\n",
      "{\"total_steps\":2,\"current_step_number\":1,\"total_workout_duration\":{\"secs\":4800,\"nanos\":0},\"next_step\":{\"IntervalsT\":{\"Repeat\":2,\"OnDuration\":1500,\"OffDuration\":600,\"OnPower\":0.73,\"OffPower\":0.52}},\"current_power_set\":108,\"ftp_base\":200.0,\"current_step\":{\"duration\":{\"secs\":600,\"nanos\":0},\"step\":{\"Warmup\":{\"Duration\":600,\"PowerLow\":0.5,\"PowerHigh\":0.55}},\"elapsed\":{\"secs\":492,\"nanos\":13880692}},\"current_interval\":null,\"workout_elapsed\":{\"secs\":492,\"nanos\":13880350}}\n"
     ]
    },
    {
     "name": "stdout",
     "output_type": "stream",
     "text": [
      "{\"total_steps\":2,\"current_step_number\":1,\"total_workout_duration\":{\"secs\":4800,\"nanos\":0},\"next_step\":{\"IntervalsT\":{\"Repeat\":2,\"OnDuration\":1500,\"OffDuration\":600,\"OnPower\":0.73,\"OffPower\":0.52}},\"current_power_set\":108,\"ftp_base\":200.0,\"current_step\":{\"duration\":{\"secs\":600,\"nanos\":0},\"step\":{\"Warmup\":{\"Duration\":600,\"PowerLow\":0.5,\"PowerHigh\":0.55}},\"elapsed\":{\"secs\":493,\"nanos\":13917045}},\"current_interval\":null,\"workout_elapsed\":{\"secs\":493,\"nanos\":13916703}}\n",
      "{\"total_steps\":2,\"current_step_number\":1,\"total_workout_duration\":{\"secs\":4800,\"nanos\":0},\"next_step\":{\"IntervalsT\":{\"Repeat\":2,\"OnDuration\":1500,\"OffDuration\":600,\"OnPower\":0.73,\"OffPower\":0.52}},\"current_power_set\":108,\"ftp_base\":200.0,\"current_step\":{\"duration\":{\"secs\":600,\"nanos\":0},\"step\":{\"Warmup\":{\"Duration\":600,\"PowerLow\":0.5,\"PowerHigh\":0.55}},\"elapsed\":{\"secs\":494,\"nanos\":13898505}},\"current_interval\":null,\"workout_elapsed\":{\"secs\":494,\"nanos\":13898163}}\n",
      "{\"total_steps\":2,\"current_step_number\":1,\"total_workout_duration\":{\"secs\":4800,\"nanos\":0},\"next_step\":{\"IntervalsT\":{\"Repeat\":2,\"OnDuration\":1500,\"OffDuration\":600,\"OnPower\":0.73,\"OffPower\":0.52}},\"current_power_set\":108,\"ftp_base\":200.0,\"current_step\":{\"duration\":{\"secs\":600,\"nanos\":0},\"step\":{\"Warmup\":{\"Duration\":600,\"PowerLow\":0.5,\"PowerHigh\":0.55}},\"elapsed\":{\"secs\":495,\"nanos\":13881919}},\"current_interval\":null,\"workout_elapsed\":{\"secs\":495,\"nanos\":13881577}}\n",
      "{\"total_steps\":2,\"current_step_number\":1,\"total_workout_duration\":{\"secs\":4800,\"nanos\":0},\"next_step\":{\"IntervalsT\":{\"Repeat\":2,\"OnDuration\":1500,\"OffDuration\":600,\"OnPower\":0.73,\"OffPower\":0.52}},\"current_power_set\":108,\"ftp_base\":200.0,\"current_step\":{\"duration\":{\"secs\":600,\"nanos\":0},\"step\":{\"Warmup\":{\"Duration\":600,\"PowerLow\":0.5,\"PowerHigh\":0.55}},\"elapsed\":{\"secs\":496,\"nanos\":13954784}},\"current_interval\":null,\"workout_elapsed\":{\"secs\":496,\"nanos\":13954442}}\n",
      "{\"total_steps\":2,\"current_step_number\":1,\"total_workout_duration\":{\"secs\":4800,\"nanos\":0},\"next_step\":{\"IntervalsT\":{\"Repeat\":2,\"OnDuration\":1500,\"OffDuration\":600,\"OnPower\":0.73,\"OffPower\":0.52}},\"current_power_set\":108,\"ftp_base\":200.0,\"current_step\":{\"duration\":{\"secs\":600,\"nanos\":0},\"step\":{\"Warmup\":{\"Duration\":600,\"PowerLow\":0.5,\"PowerHigh\":0.55}},\"elapsed\":{\"secs\":497,\"nanos\":13080556}},\"current_interval\":null,\"workout_elapsed\":{\"secs\":497,\"nanos\":13080214}}\n",
      "{\"total_steps\":2,\"current_step_number\":1,\"total_workout_duration\":{\"secs\":4800,\"nanos\":0},\"next_step\":{\"IntervalsT\":{\"Repeat\":2,\"OnDuration\":1500,\"OffDuration\":600,\"OnPower\":0.73,\"OffPower\":0.52}},\"current_power_set\":108,\"ftp_base\":200.0,\"current_step\":{\"duration\":{\"secs\":600,\"nanos\":0},\"step\":{\"Warmup\":{\"Duration\":600,\"PowerLow\":0.5,\"PowerHigh\":0.55}},\"elapsed\":{\"secs\":498,\"nanos\":14010170}},\"current_interval\":null,\"workout_elapsed\":{\"secs\":498,\"nanos\":14009828}}\n",
      "{\"total_steps\":2,\"current_step_number\":1,\"total_workout_duration\":{\"secs\":4800,\"nanos\":0},\"next_step\":{\"IntervalsT\":{\"Repeat\":2,\"OnDuration\":1500,\"OffDuration\":600,\"OnPower\":0.73,\"OffPower\":0.52}},\"current_power_set\":108,\"ftp_base\":200.0,\"current_step\":{\"duration\":{\"secs\":600,\"nanos\":0},\"step\":{\"Warmup\":{\"Duration\":600,\"PowerLow\":0.5,\"PowerHigh\":0.55}},\"elapsed\":{\"secs\":499,\"nanos\":14068402}},\"current_interval\":null,\"workout_elapsed\":{\"secs\":499,\"nanos\":14068060}}\n",
      "{\"total_steps\":2,\"current_step_number\":1,\"total_workout_duration\":{\"secs\":4800,\"nanos\":0},\"next_step\":{\"IntervalsT\":{\"Repeat\":2,\"OnDuration\":1500,\"OffDuration\":600,\"OnPower\":0.73,\"OffPower\":0.52}},\"current_power_set\":108,\"ftp_base\":200.0,\"current_step\":{\"duration\":{\"secs\":600,\"nanos\":0},\"step\":{\"Warmup\":{\"Duration\":600,\"PowerLow\":0.5,\"PowerHigh\":0.55}},\"elapsed\":{\"secs\":500,\"nanos\":13100349}},\"current_interval\":null,\"workout_elapsed\":{\"secs\":500,\"nanos\":13100007}}\n",
      "{\"total_steps\":2,\"current_step_number\":1,\"total_workout_duration\":{\"secs\":4800,\"nanos\":0},\"next_step\":{\"IntervalsT\":{\"Repeat\":2,\"OnDuration\":1500,\"OffDuration\":600,\"OnPower\":0.73,\"OffPower\":0.52}},\"current_power_set\":108,\"ftp_base\":200.0,\"current_step\":{\"duration\":{\"secs\":600,\"nanos\":0},\"step\":{\"Warmup\":{\"Duration\":600,\"PowerLow\":0.5,\"PowerHigh\":0.55}},\"elapsed\":{\"secs\":501,\"nanos\":14088035}},\"current_interval\":null,\"workout_elapsed\":{\"secs\":501,\"nanos\":14087693}}\n",
      "{\"total_steps\":2,\"current_step_number\":1,\"total_workout_duration\":{\"secs\":4800,\"nanos\":0},\"next_step\":{\"IntervalsT\":{\"Repeat\":2,\"OnDuration\":1500,\"OffDuration\":600,\"OnPower\":0.73,\"OffPower\":0.52}},\"current_power_set\":108,\"ftp_base\":200.0,\"current_step\":{\"duration\":{\"secs\":600,\"nanos\":0},\"step\":{\"Warmup\":{\"Duration\":600,\"PowerLow\":0.5,\"PowerHigh\":0.55}},\"elapsed\":{\"secs\":502,\"nanos\":13182364}},\"current_interval\":null,\"workout_elapsed\":{\"secs\":502,\"nanos\":13182022}}\n",
      "{\"total_steps\":2,\"current_step_number\":1,\"total_workout_duration\":{\"secs\":4800,\"nanos\":0},\"next_step\":{\"IntervalsT\":{\"Repeat\":2,\"OnDuration\":1500,\"OffDuration\":600,\"OnPower\":0.73,\"OffPower\":0.52}},\"current_power_set\":108,\"ftp_base\":200.0,\"current_step\":{\"duration\":{\"secs\":600,\"nanos\":0},\"step\":{\"Warmup\":{\"Duration\":600,\"PowerLow\":0.5,\"PowerHigh\":0.55}},\"elapsed\":{\"secs\":503,\"nanos\":13843043}},\"current_interval\":null,\"workout_elapsed\":{\"secs\":503,\"nanos\":13842701}}\n",
      "{\"total_steps\":2,\"current_step_number\":1,\"total_workout_duration\":{\"secs\":4800,\"nanos\":0},\"next_step\":{\"IntervalsT\":{\"Repeat\":2,\"OnDuration\":1500,\"OffDuration\":600,\"OnPower\":0.73,\"OffPower\":0.52}},\"current_power_set\":108,\"ftp_base\":200.0,\"current_step\":{\"duration\":{\"secs\":600,\"nanos\":0},\"step\":{\"Warmup\":{\"Duration\":600,\"PowerLow\":0.5,\"PowerHigh\":0.55}},\"elapsed\":{\"secs\":504,\"nanos\":13939808}},\"current_interval\":null,\"workout_elapsed\":{\"secs\":504,\"nanos\":13939466}}\n",
      "{\"total_steps\":2,\"current_step_number\":1,\"total_workout_duration\":{\"secs\":4800,\"nanos\":0},\"next_step\":{\"IntervalsT\":{\"Repeat\":2,\"OnDuration\":1500,\"OffDuration\":600,\"OnPower\":0.73,\"OffPower\":0.52}},\"current_power_set\":108,\"ftp_base\":200.0,\"current_step\":{\"duration\":{\"secs\":600,\"nanos\":0},\"step\":{\"Warmup\":{\"Duration\":600,\"PowerLow\":0.5,\"PowerHigh\":0.55}},\"elapsed\":{\"secs\":505,\"nanos\":13318558}},\"current_interval\":null,\"workout_elapsed\":{\"secs\":505,\"nanos\":13318216}}\n",
      "{\"total_steps\":2,\"current_step_number\":1,\"total_workout_duration\":{\"secs\":4800,\"nanos\":0},\"next_step\":{\"IntervalsT\":{\"Repeat\":2,\"OnDuration\":1500,\"OffDuration\":600,\"OnPower\":0.73,\"OffPower\":0.52}},\"current_power_set\":108,\"ftp_base\":200.0,\"current_step\":{\"duration\":{\"secs\":600,\"nanos\":0},\"step\":{\"Warmup\":{\"Duration\":600,\"PowerLow\":0.5,\"PowerHigh\":0.55}},\"elapsed\":{\"secs\":506,\"nanos\":14190098}},\"current_interval\":null,\"workout_elapsed\":{\"secs\":506,\"nanos\":14189756}}\n",
      "{\"total_steps\":2,\"current_step_number\":1,\"total_workout_duration\":{\"secs\":4800,\"nanos\":0},\"next_step\":{\"IntervalsT\":{\"Repeat\":2,\"OnDuration\":1500,\"OffDuration\":600,\"OnPower\":0.73,\"OffPower\":0.52}},\"current_power_set\":108,\"ftp_base\":200.0,\"current_step\":{\"duration\":{\"secs\":600,\"nanos\":0},\"step\":{\"Warmup\":{\"Duration\":600,\"PowerLow\":0.5,\"PowerHigh\":0.55}},\"elapsed\":{\"secs\":507,\"nanos\":13126734}},\"current_interval\":null,\"workout_elapsed\":{\"secs\":507,\"nanos\":13126392}}\n",
      "{\"total_steps\":2,\"current_step_number\":1,\"total_workout_duration\":{\"secs\":4800,\"nanos\":0},\"next_step\":{\"IntervalsT\":{\"Repeat\":2,\"OnDuration\":1500,\"OffDuration\":600,\"OnPower\":0.73,\"OffPower\":0.52}},\"current_power_set\":108,\"ftp_base\":200.0,\"current_step\":{\"duration\":{\"secs\":600,\"nanos\":0},\"step\":{\"Warmup\":{\"Duration\":600,\"PowerLow\":0.5,\"PowerHigh\":0.55}},\"elapsed\":{\"secs\":508,\"nanos\":13508066}},\"current_interval\":null,\"workout_elapsed\":{\"secs\":508,\"nanos\":13507724}}\n",
      "{\"total_steps\":2,\"current_step_number\":1,\"total_workout_duration\":{\"secs\":4800,\"nanos\":0},\"next_step\":{\"IntervalsT\":{\"Repeat\":2,\"OnDuration\":1500,\"OffDuration\":600,\"OnPower\":0.73,\"OffPower\":0.52}},\"current_power_set\":108,\"ftp_base\":200.0,\"current_step\":{\"duration\":{\"secs\":600,\"nanos\":0},\"step\":{\"Warmup\":{\"Duration\":600,\"PowerLow\":0.5,\"PowerHigh\":0.55}},\"elapsed\":{\"secs\":509,\"nanos\":14071385}},\"current_interval\":null,\"workout_elapsed\":{\"secs\":509,\"nanos\":14071043}}\n",
      "{\"total_steps\":2,\"current_step_number\":1,\"total_workout_duration\":{\"secs\":4800,\"nanos\":0},\"next_step\":{\"IntervalsT\":{\"Repeat\":2,\"OnDuration\":1500,\"OffDuration\":600,\"OnPower\":0.73,\"OffPower\":0.52}},\"current_power_set\":108,\"ftp_base\":200.0,\"current_step\":{\"duration\":{\"secs\":600,\"nanos\":0},\"step\":{\"Warmup\":{\"Duration\":600,\"PowerLow\":0.5,\"PowerHigh\":0.55}},\"elapsed\":{\"secs\":510,\"nanos\":13973534}},\"current_interval\":null,\"workout_elapsed\":{\"secs\":510,\"nanos\":13973192}}\n"
     ]
    },
    {
     "name": "stdout",
     "output_type": "stream",
     "text": [
      "{\"total_steps\":2,\"current_step_number\":1,\"total_workout_duration\":{\"secs\":4800,\"nanos\":0},\"next_step\":{\"IntervalsT\":{\"Repeat\":2,\"OnDuration\":1500,\"OffDuration\":600,\"OnPower\":0.73,\"OffPower\":0.52}},\"current_power_set\":108,\"ftp_base\":200.0,\"current_step\":{\"duration\":{\"secs\":600,\"nanos\":0},\"step\":{\"Warmup\":{\"Duration\":600,\"PowerLow\":0.5,\"PowerHigh\":0.55}},\"elapsed\":{\"secs\":511,\"nanos\":14061870}},\"current_interval\":null,\"workout_elapsed\":{\"secs\":511,\"nanos\":14061528}}\n",
      "{\"total_steps\":2,\"current_step_number\":1,\"total_workout_duration\":{\"secs\":4800,\"nanos\":0},\"next_step\":{\"IntervalsT\":{\"Repeat\":2,\"OnDuration\":1500,\"OffDuration\":600,\"OnPower\":0.73,\"OffPower\":0.52}},\"current_power_set\":109,\"ftp_base\":200.0,\"current_step\":{\"duration\":{\"secs\":600,\"nanos\":0},\"step\":{\"Warmup\":{\"Duration\":600,\"PowerLow\":0.5,\"PowerHigh\":0.55}},\"elapsed\":{\"secs\":512,\"nanos\":13691784}},\"current_interval\":null,\"workout_elapsed\":{\"secs\":512,\"nanos\":13691442}}\n",
      "{\"total_steps\":2,\"current_step_number\":1,\"total_workout_duration\":{\"secs\":4800,\"nanos\":0},\"next_step\":{\"IntervalsT\":{\"Repeat\":2,\"OnDuration\":1500,\"OffDuration\":600,\"OnPower\":0.73,\"OffPower\":0.52}},\"current_power_set\":109,\"ftp_base\":200.0,\"current_step\":{\"duration\":{\"secs\":600,\"nanos\":0},\"step\":{\"Warmup\":{\"Duration\":600,\"PowerLow\":0.5,\"PowerHigh\":0.55}},\"elapsed\":{\"secs\":513,\"nanos\":13281596}},\"current_interval\":null,\"workout_elapsed\":{\"secs\":513,\"nanos\":13281254}}\n"
     ]
    }
   ],
   "source": [
    "while True:\n",
    "    print(ws.recv())"
   ]
  }
 ],
 "metadata": {
  "kernelspec": {
   "display_name": "Python 3 (ipykernel)",
   "language": "python",
   "name": "python3"
  },
  "language_info": {
   "codemirror_mode": {
    "name": "ipython",
    "version": 3
   },
   "file_extension": ".py",
   "mimetype": "text/x-python",
   "name": "python",
   "nbconvert_exporter": "python",
   "pygments_lexer": "ipython3",
   "version": "3.11.5"
  }
 },
 "nbformat": 4,
 "nbformat_minor": 5
}
