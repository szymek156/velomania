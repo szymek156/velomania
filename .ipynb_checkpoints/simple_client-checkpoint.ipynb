{
 "cells": [
  {
   "cell_type": "code",
   "execution_count": 1,
   "id": "9579a11a",
   "metadata": {},
   "outputs": [],
   "source": [
    "import requests"
   ]
  },
  {
   "cell_type": "code",
   "execution_count": 2,
   "id": "cae32fb1",
   "metadata": {},
   "outputs": [],
   "source": [
    " r = requests.get(\"http://127.0.0.1:2137/workout_state\", stream=True)"
   ]
  },
  {
   "cell_type": "code",
   "execution_count": 3,
   "id": "70e043c3",
   "metadata": {},
   "outputs": [
    {
     "name": "stdout",
     "output_type": "stream",
     "text": [
      "b'{\"total_steps\":2,\"current_step_number\":1,\"total_workout_duration\":{\"secs\":4800,\"nanos\":0},\"next_step\":{\"IntervalsT\":{\"Repeat\":2,\"OnDuration\":1500,\"OffDuration\":600,\"OnPower\":0.73,\"OffPower\":0.52}},\"current_power_set\":101,\"ftp_base\":200.0,\"current_step\":{\"duration\":{\"secs\":600,\"nanos\":0},\"step\":{\"Warmup\":{\"Duration\":600,\"PowerLow\":0.5,\"PowerHigh\":0.55}},\"elapsed\":{\"secs\":45,\"nanos\":13336684}},\"current_interval\":null,\"workout_elapsed\":{\"secs\":45,\"nanos\":13336342}}'\n",
      "b'{\"total_steps\":2,\"current_step_number\":1,\"total_workout_duration\":{\"secs\":4800,\"nanos\":0},\"next_step\":{\"IntervalsT\":{\"Repeat\":2,\"OnDuration\":1500,\"OffDuration\":600,\"OnPower\":0.73,\"OffPower\":0.52}},\"current_power_set\":101,\"ftp_base\":200.0,\"current_step\":{\"duration\":{\"secs\":600,\"nanos\":0},\"step\":{\"Warmup\":{\"Duration\":600,\"PowerLow\":0.5,\"PowerHigh\":0.55}},\"elapsed\":{\"secs\":46,\"nanos\":13765791}},\"current_interval\":null,\"workout_elapsed\":{\"secs\":46,\"nanos\":13765449}}'\n",
      "b'{\"total_steps\":2,\"current_step_number\":1,\"total_workout_duration\":{\"secs\":4800,\"nanos\":0},\"next_step\":{\"IntervalsT\":{\"Repeat\":2,\"OnDuration\":1500,\"OffDuration\":600,\"OnPower\":0.73,\"OffPower\":0.52}},\"current_power_set\":101,\"ftp_base\":200.0,\"current_step\":{\"duration\":{\"secs\":600,\"nanos\":0},\"step\":{\"Warmup\":{\"Duration\":600,\"PowerLow\":0.5,\"PowerHigh\":0.55}},\"elapsed\":{\"secs\":47,\"nanos\":13596671}},\"current_interval\":null,\"workout_elapsed\":{\"secs\":47,\"nanos\":13596329}}'\n",
      "b'{\"total_steps\":2,\"current_step_number\":1,\"total_workout_duration\":{\"secs\":4800,\"nanos\":0},\"next_step\":{\"IntervalsT\":{\"Repeat\":2,\"OnDuration\":1500,\"OffDuration\":600,\"OnPower\":0.73,\"OffPower\":0.52}},\"current_power_set\":101,\"ftp_base\":200.0,\"current_step\":{\"duration\":{\"secs\":600,\"nanos\":0},\"step\":{\"Warmup\":{\"Duration\":600,\"PowerLow\":0.5,\"PowerHigh\":0.55}},\"elapsed\":{\"secs\":48,\"nanos\":13859013}},\"current_interval\":null,\"workout_elapsed\":{\"secs\":48,\"nanos\":13858671}}'\n",
      "b'{\"total_steps\":2,\"current_step_number\":1,\"total_workout_duration\":{\"secs\":4800,\"nanos\":0},\"next_step\":{\"IntervalsT\":{\"Repeat\":2,\"OnDuration\":1500,\"OffDuration\":600,\"OnPower\":0.73,\"OffPower\":0.52}},\"current_power_set\":101,\"ftp_base\":200.0,\"current_step\":{\"duration\":{\"secs\":600,\"nanos\":0},\"step\":{\"Warmup\":{\"Duration\":600,\"PowerLow\":0.5,\"PowerHigh\":0.55}},\"elapsed\":{\"secs\":49,\"nanos\":13630085}},\"current_interval\":null,\"workout_elapsed\":{\"secs\":49,\"nanos\":13629743}}'\n",
      "b'{\"total_steps\":2,\"current_step_number\":1,\"total_workout_duration\":{\"secs\":4800,\"nanos\":0},\"next_step\":{\"IntervalsT\":{\"Repeat\":2,\"OnDuration\":1500,\"OffDuration\":600,\"OnPower\":0.73,\"OffPower\":0.52}},\"current_power_set\":101,\"ftp_base\":200.0,\"current_step\":{\"duration\":{\"secs\":600,\"nanos\":0},\"step\":{\"Warmup\":{\"Duration\":600,\"PowerLow\":0.5,\"PowerHigh\":0.55}},\"elapsed\":{\"secs\":50,\"nanos\":14384541}},\"current_interval\":null,\"workout_elapsed\":{\"secs\":50,\"nanos\":14384199}}'\n",
      "b'{\"total_steps\":2,\"current_step_number\":1,\"total_workout_duration\":{\"secs\":4800,\"nanos\":0},\"next_step\":{\"IntervalsT\":{\"Repeat\":2,\"OnDuration\":1500,\"OffDuration\":600,\"OnPower\":0.73,\"OffPower\":0.52}},\"current_power_set\":101,\"ftp_base\":200.0,\"current_step\":{\"duration\":{\"secs\":600,\"nanos\":0},\"step\":{\"Warmup\":{\"Duration\":600,\"PowerLow\":0.5,\"PowerHigh\":0.55}},\"elapsed\":{\"secs\":51,\"nanos\":13091952}},\"current_interval\":null,\"workout_elapsed\":{\"secs\":51,\"nanos\":13091610}}'\n",
      "b'{\"total_steps\":2,\"current_step_number\":1,\"total_workout_duration\":{\"secs\":4800,\"nanos\":0},\"next_step\":{\"IntervalsT\":{\"Repeat\":2,\"OnDuration\":1500,\"OffDuration\":600,\"OnPower\":0.73,\"OffPower\":0.52}},\"current_power_set\":101,\"ftp_base\":200.0,\"current_step\":{\"duration\":{\"secs\":600,\"nanos\":0},\"step\":{\"Warmup\":{\"Duration\":600,\"PowerLow\":0.5,\"PowerHigh\":0.55}},\"elapsed\":{\"secs\":52,\"nanos\":13563549}},\"current_interval\":null,\"workout_elapsed\":{\"secs\":52,\"nanos\":13563207}}'\n",
      "b'{\"total_steps\":2,\"current_step_number\":1,\"total_workout_duration\":{\"secs\":4800,\"nanos\":0},\"next_step\":{\"IntervalsT\":{\"Repeat\":2,\"OnDuration\":1500,\"OffDuration\":600,\"OnPower\":0.73,\"OffPower\":0.52}},\"current_power_set\":101,\"ftp_base\":200.0,\"current_step\":{\"duration\":{\"secs\":600,\"nanos\":0},\"step\":{\"Warmup\":{\"Duration\":600,\"PowerLow\":0.5,\"PowerHigh\":0.55}},\"elapsed\":{\"secs\":53,\"nanos\":13660245}},\"current_interval\":null,\"workout_elapsed\":{\"secs\":53,\"nanos\":13659903}}'\n",
      "b'{\"total_steps\":2,\"current_step_number\":1,\"total_workout_duration\":{\"secs\":4800,\"nanos\":0},\"next_step\":{\"IntervalsT\":{\"Repeat\":2,\"OnDuration\":1500,\"OffDuration\":600,\"OnPower\":0.73,\"OffPower\":0.52}},\"current_power_set\":101,\"ftp_base\":200.0,\"current_step\":{\"duration\":{\"secs\":600,\"nanos\":0},\"step\":{\"Warmup\":{\"Duration\":600,\"PowerLow\":0.5,\"PowerHigh\":0.55}},\"elapsed\":{\"secs\":54,\"nanos\":13929383}},\"current_interval\":null,\"workout_elapsed\":{\"secs\":54,\"nanos\":13929041}}'\n",
      "b'{\"total_steps\":2,\"current_step_number\":1,\"total_workout_duration\":{\"secs\":4800,\"nanos\":0},\"next_step\":{\"IntervalsT\":{\"Repeat\":2,\"OnDuration\":1500,\"OffDuration\":600,\"OnPower\":0.73,\"OffPower\":0.52}},\"current_power_set\":101,\"ftp_base\":200.0,\"current_step\":{\"duration\":{\"secs\":600,\"nanos\":0},\"step\":{\"Warmup\":{\"Duration\":600,\"PowerLow\":0.5,\"PowerHigh\":0.55}},\"elapsed\":{\"secs\":55,\"nanos\":13504577}},\"current_interval\":null,\"workout_elapsed\":{\"secs\":55,\"nanos\":13504235}}'\n",
      "b'{\"total_steps\":2,\"current_step_number\":1,\"total_workout_duration\":{\"secs\":4800,\"nanos\":0},\"next_step\":{\"IntervalsT\":{\"Repeat\":2,\"OnDuration\":1500,\"OffDuration\":600,\"OnPower\":0.73,\"OffPower\":0.52}},\"current_power_set\":101,\"ftp_base\":200.0,\"current_step\":{\"duration\":{\"secs\":600,\"nanos\":0},\"step\":{\"Warmup\":{\"Duration\":600,\"PowerLow\":0.5,\"PowerHigh\":0.55}},\"elapsed\":{\"secs\":56,\"nanos\":13480874}},\"current_interval\":null,\"workout_elapsed\":{\"secs\":56,\"nanos\":13480532}}'\n",
      "b'{\"total_steps\":2,\"current_step_number\":1,\"total_workout_duration\":{\"secs\":4800,\"nanos\":0},\"next_step\":{\"IntervalsT\":{\"Repeat\":2,\"OnDuration\":1500,\"OffDuration\":600,\"OnPower\":0.73,\"OffPower\":0.52}},\"current_power_set\":101,\"ftp_base\":200.0,\"current_step\":{\"duration\":{\"secs\":600,\"nanos\":0},\"step\":{\"Warmup\":{\"Duration\":600,\"PowerLow\":0.5,\"PowerHigh\":0.55}},\"elapsed\":{\"secs\":57,\"nanos\":13204069}},\"current_interval\":null,\"workout_elapsed\":{\"secs\":57,\"nanos\":13203727}}'\n",
      "b'{\"total_steps\":2,\"current_step_number\":1,\"total_workout_duration\":{\"secs\":4800,\"nanos\":0},\"next_step\":{\"IntervalsT\":{\"Repeat\":2,\"OnDuration\":1500,\"OffDuration\":600,\"OnPower\":0.73,\"OffPower\":0.52}},\"current_power_set\":101,\"ftp_base\":200.0,\"current_step\":{\"duration\":{\"secs\":600,\"nanos\":0},\"step\":{\"Warmup\":{\"Duration\":600,\"PowerLow\":0.5,\"PowerHigh\":0.55}},\"elapsed\":{\"secs\":58,\"nanos\":13766182}},\"current_interval\":null,\"workout_elapsed\":{\"secs\":58,\"nanos\":13765840}}'\n",
      "b'{\"total_steps\":2,\"current_step_number\":1,\"total_workout_duration\":{\"secs\":4800,\"nanos\":0},\"next_step\":{\"IntervalsT\":{\"Repeat\":2,\"OnDuration\":1500,\"OffDuration\":600,\"OnPower\":0.73,\"OffPower\":0.52}},\"current_power_set\":101,\"ftp_base\":200.0,\"current_step\":{\"duration\":{\"secs\":600,\"nanos\":0},\"step\":{\"Warmup\":{\"Duration\":600,\"PowerLow\":0.5,\"PowerHigh\":0.55}},\"elapsed\":{\"secs\":59,\"nanos\":13440341}},\"current_interval\":null,\"workout_elapsed\":{\"secs\":59,\"nanos\":13439999}}'\n",
      "b'{\"total_steps\":2,\"current_step_number\":1,\"total_workout_duration\":{\"secs\":4800,\"nanos\":0},\"next_step\":{\"IntervalsT\":{\"Repeat\":2,\"OnDuration\":1500,\"OffDuration\":600,\"OnPower\":0.73,\"OffPower\":0.52}},\"current_power_set\":101,\"ftp_base\":200.0,\"current_step\":{\"duration\":{\"secs\":600,\"nanos\":0},\"step\":{\"Warmup\":{\"Duration\":600,\"PowerLow\":0.5,\"PowerHigh\":0.55}},\"elapsed\":{\"secs\":60,\"nanos\":13324963}},\"current_interval\":null,\"workout_elapsed\":{\"secs\":60,\"nanos\":13324621}}'\n",
      "b'{\"total_steps\":2,\"current_step_number\":1,\"total_workout_duration\":{\"secs\":4800,\"nanos\":0},\"next_step\":{\"IntervalsT\":{\"Repeat\":2,\"OnDuration\":1500,\"OffDuration\":600,\"OnPower\":0.73,\"OffPower\":0.52}},\"current_power_set\":101,\"ftp_base\":200.0,\"current_step\":{\"duration\":{\"secs\":600,\"nanos\":0},\"step\":{\"Warmup\":{\"Duration\":600,\"PowerLow\":0.5,\"PowerHigh\":0.55}},\"elapsed\":{\"secs\":61,\"nanos\":13661318}},\"current_interval\":null,\"workout_elapsed\":{\"secs\":61,\"nanos\":13660976}}'\n",
      "b'{\"total_steps\":2,\"current_step_number\":1,\"total_workout_duration\":{\"secs\":4800,\"nanos\":0},\"next_step\":{\"IntervalsT\":{\"Repeat\":2,\"OnDuration\":1500,\"OffDuration\":600,\"OnPower\":0.73,\"OffPower\":0.52}},\"current_power_set\":101,\"ftp_base\":200.0,\"current_step\":{\"duration\":{\"secs\":600,\"nanos\":0},\"step\":{\"Warmup\":{\"Duration\":600,\"PowerLow\":0.5,\"PowerHigh\":0.55}},\"elapsed\":{\"secs\":62,\"nanos\":13710836}},\"current_interval\":null,\"workout_elapsed\":{\"secs\":62,\"nanos\":13710494}}'\n"
     ]
    },
    {
     "name": "stdout",
     "output_type": "stream",
     "text": [
      "b'{\"total_steps\":2,\"current_step_number\":1,\"total_workout_duration\":{\"secs\":4800,\"nanos\":0},\"next_step\":{\"IntervalsT\":{\"Repeat\":2,\"OnDuration\":1500,\"OffDuration\":600,\"OnPower\":0.73,\"OffPower\":0.52}},\"current_power_set\":101,\"ftp_base\":200.0,\"current_step\":{\"duration\":{\"secs\":600,\"nanos\":0},\"step\":{\"Warmup\":{\"Duration\":600,\"PowerLow\":0.5,\"PowerHigh\":0.55}},\"elapsed\":{\"secs\":63,\"nanos\":13735594}},\"current_interval\":null,\"workout_elapsed\":{\"secs\":63,\"nanos\":13735252}}'\n",
      "b'{\"total_steps\":2,\"current_step_number\":1,\"total_workout_duration\":{\"secs\":4800,\"nanos\":0},\"next_step\":{\"IntervalsT\":{\"Repeat\":2,\"OnDuration\":1500,\"OffDuration\":600,\"OnPower\":0.73,\"OffPower\":0.52}},\"current_power_set\":101,\"ftp_base\":200.0,\"current_step\":{\"duration\":{\"secs\":600,\"nanos\":0},\"step\":{\"Warmup\":{\"Duration\":600,\"PowerLow\":0.5,\"PowerHigh\":0.55}},\"elapsed\":{\"secs\":64,\"nanos\":13926137}},\"current_interval\":null,\"workout_elapsed\":{\"secs\":64,\"nanos\":13925795}}'\n",
      "b'{\"total_steps\":2,\"current_step_number\":1,\"total_workout_duration\":{\"secs\":4800,\"nanos\":0},\"next_step\":{\"IntervalsT\":{\"Repeat\":2,\"OnDuration\":1500,\"OffDuration\":600,\"OnPower\":0.73,\"OffPower\":0.52}},\"current_power_set\":101,\"ftp_base\":200.0,\"current_step\":{\"duration\":{\"secs\":600,\"nanos\":0},\"step\":{\"Warmup\":{\"Duration\":600,\"PowerLow\":0.5,\"PowerHigh\":0.55}},\"elapsed\":{\"secs\":65,\"nanos\":13779999}},\"current_interval\":null,\"workout_elapsed\":{\"secs\":65,\"nanos\":13779657}}'\n",
      "b'{\"total_steps\":2,\"current_step_number\":1,\"total_workout_duration\":{\"secs\":4800,\"nanos\":0},\"next_step\":{\"IntervalsT\":{\"Repeat\":2,\"OnDuration\":1500,\"OffDuration\":600,\"OnPower\":0.73,\"OffPower\":0.52}},\"current_power_set\":101,\"ftp_base\":200.0,\"current_step\":{\"duration\":{\"secs\":600,\"nanos\":0},\"step\":{\"Warmup\":{\"Duration\":600,\"PowerLow\":0.5,\"PowerHigh\":0.55}},\"elapsed\":{\"secs\":66,\"nanos\":13760042}},\"current_interval\":null,\"workout_elapsed\":{\"secs\":66,\"nanos\":13759700}}'\n",
      "b'{\"total_steps\":2,\"current_step_number\":1,\"total_workout_duration\":{\"secs\":4800,\"nanos\":0},\"next_step\":{\"IntervalsT\":{\"Repeat\":2,\"OnDuration\":1500,\"OffDuration\":600,\"OnPower\":0.73,\"OffPower\":0.52}},\"current_power_set\":101,\"ftp_base\":200.0,\"current_step\":{\"duration\":{\"secs\":600,\"nanos\":0},\"step\":{\"Warmup\":{\"Duration\":600,\"PowerLow\":0.5,\"PowerHigh\":0.55}},\"elapsed\":{\"secs\":67,\"nanos\":13267967}},\"current_interval\":null,\"workout_elapsed\":{\"secs\":67,\"nanos\":13267625}}'\n",
      "b'{\"total_steps\":2,\"current_step_number\":1,\"total_workout_duration\":{\"secs\":4800,\"nanos\":0},\"next_step\":{\"IntervalsT\":{\"Repeat\":2,\"OnDuration\":1500,\"OffDuration\":600,\"OnPower\":0.73,\"OffPower\":0.52}},\"current_power_set\":101,\"ftp_base\":200.0,\"current_step\":{\"duration\":{\"secs\":600,\"nanos\":0},\"step\":{\"Warmup\":{\"Duration\":600,\"PowerLow\":0.5,\"PowerHigh\":0.55}},\"elapsed\":{\"secs\":68,\"nanos\":13701737}},\"current_interval\":null,\"workout_elapsed\":{\"secs\":68,\"nanos\":13701395}}'\n",
      "b'{\"total_steps\":2,\"current_step_number\":1,\"total_workout_duration\":{\"secs\":4800,\"nanos\":0},\"next_step\":{\"IntervalsT\":{\"Repeat\":2,\"OnDuration\":1500,\"OffDuration\":600,\"OnPower\":0.73,\"OffPower\":0.52}},\"current_power_set\":101,\"ftp_base\":200.0,\"current_step\":{\"duration\":{\"secs\":600,\"nanos\":0},\"step\":{\"Warmup\":{\"Duration\":600,\"PowerLow\":0.5,\"PowerHigh\":0.55}},\"elapsed\":{\"secs\":69,\"nanos\":14022461}},\"current_interval\":null,\"workout_elapsed\":{\"secs\":69,\"nanos\":14022119}}'\n",
      "b'{\"total_steps\":2,\"current_step_number\":1,\"total_workout_duration\":{\"secs\":4800,\"nanos\":0},\"next_step\":{\"IntervalsT\":{\"Repeat\":2,\"OnDuration\":1500,\"OffDuration\":600,\"OnPower\":0.73,\"OffPower\":0.52}},\"current_power_set\":101,\"ftp_base\":200.0,\"current_step\":{\"duration\":{\"secs\":600,\"nanos\":0},\"step\":{\"Warmup\":{\"Duration\":600,\"PowerLow\":0.5,\"PowerHigh\":0.55}},\"elapsed\":{\"secs\":70,\"nanos\":13582558}},\"current_interval\":null,\"workout_elapsed\":{\"secs\":70,\"nanos\":13582216}}'\n",
      "b'{\"total_steps\":2,\"current_step_number\":1,\"total_workout_duration\":{\"secs\":4800,\"nanos\":0},\"next_step\":{\"IntervalsT\":{\"Repeat\":2,\"OnDuration\":1500,\"OffDuration\":600,\"OnPower\":0.73,\"OffPower\":0.52}},\"current_power_set\":101,\"ftp_base\":200.0,\"current_step\":{\"duration\":{\"secs\":600,\"nanos\":0},\"step\":{\"Warmup\":{\"Duration\":600,\"PowerLow\":0.5,\"PowerHigh\":0.55}},\"elapsed\":{\"secs\":71,\"nanos\":13154156}},\"current_interval\":null,\"workout_elapsed\":{\"secs\":71,\"nanos\":13153814}}'\n",
      "b'{\"total_steps\":2,\"current_step_number\":1,\"total_workout_duration\":{\"secs\":4800,\"nanos\":0},\"next_step\":{\"IntervalsT\":{\"Repeat\":2,\"OnDuration\":1500,\"OffDuration\":600,\"OnPower\":0.73,\"OffPower\":0.52}},\"current_power_set\":101,\"ftp_base\":200.0,\"current_step\":{\"duration\":{\"secs\":600,\"nanos\":0},\"step\":{\"Warmup\":{\"Duration\":600,\"PowerLow\":0.5,\"PowerHigh\":0.55}},\"elapsed\":{\"secs\":72,\"nanos\":13170854}},\"current_interval\":null,\"workout_elapsed\":{\"secs\":72,\"nanos\":13170512}}'\n",
      "b'{\"total_steps\":2,\"current_step_number\":1,\"total_workout_duration\":{\"secs\":4800,\"nanos\":0},\"next_step\":{\"IntervalsT\":{\"Repeat\":2,\"OnDuration\":1500,\"OffDuration\":600,\"OnPower\":0.73,\"OffPower\":0.52}},\"current_power_set\":101,\"ftp_base\":200.0,\"current_step\":{\"duration\":{\"secs\":600,\"nanos\":0},\"step\":{\"Warmup\":{\"Duration\":600,\"PowerLow\":0.5,\"PowerHigh\":0.55}},\"elapsed\":{\"secs\":73,\"nanos\":13802535}},\"current_interval\":null,\"workout_elapsed\":{\"secs\":73,\"nanos\":13802193}}'\n"
     ]
    },
    {
     "ename": "KeyboardInterrupt",
     "evalue": "",
     "output_type": "error",
     "traceback": [
      "\u001b[0;31m---------------------------------------------------------------------------\u001b[0m",
      "\u001b[0;31mKeyboardInterrupt\u001b[0m                         Traceback (most recent call last)",
      "Cell \u001b[0;32mIn[3], line 1\u001b[0m\n\u001b[0;32m----> 1\u001b[0m \u001b[38;5;28;01mfor\u001b[39;00m chunk \u001b[38;5;129;01min\u001b[39;00m r\u001b[38;5;241m.\u001b[39miter_lines():\n\u001b[1;32m      2\u001b[0m     \u001b[38;5;28mprint\u001b[39m(\u001b[38;5;124mf\u001b[39m\u001b[38;5;124m\"\u001b[39m\u001b[38;5;132;01m{\u001b[39;00mchunk\u001b[38;5;132;01m}\u001b[39;00m\u001b[38;5;124m\"\u001b[39m)\n",
      "File \u001b[0;32m~/anaconda3/lib/python3.11/site-packages/requests/models.py:865\u001b[0m, in \u001b[0;36mResponse.iter_lines\u001b[0;34m(self, chunk_size, decode_unicode, delimiter)\u001b[0m\n\u001b[1;32m    856\u001b[0m \u001b[38;5;250m\u001b[39m\u001b[38;5;124;03m\"\"\"Iterates over the response data, one line at a time.  When\u001b[39;00m\n\u001b[1;32m    857\u001b[0m \u001b[38;5;124;03mstream=True is set on the request, this avoids reading the\u001b[39;00m\n\u001b[1;32m    858\u001b[0m \u001b[38;5;124;03mcontent at once into memory for large responses.\u001b[39;00m\n\u001b[1;32m    859\u001b[0m \n\u001b[1;32m    860\u001b[0m \u001b[38;5;124;03m.. note:: This method is not reentrant safe.\u001b[39;00m\n\u001b[1;32m    861\u001b[0m \u001b[38;5;124;03m\"\"\"\u001b[39;00m\n\u001b[1;32m    863\u001b[0m pending \u001b[38;5;241m=\u001b[39m \u001b[38;5;28;01mNone\u001b[39;00m\n\u001b[0;32m--> 865\u001b[0m \u001b[38;5;28;01mfor\u001b[39;00m chunk \u001b[38;5;129;01min\u001b[39;00m \u001b[38;5;28mself\u001b[39m\u001b[38;5;241m.\u001b[39miter_content(\n\u001b[1;32m    866\u001b[0m     chunk_size\u001b[38;5;241m=\u001b[39mchunk_size, decode_unicode\u001b[38;5;241m=\u001b[39mdecode_unicode\n\u001b[1;32m    867\u001b[0m ):\n\u001b[1;32m    869\u001b[0m     \u001b[38;5;28;01mif\u001b[39;00m pending \u001b[38;5;129;01mis\u001b[39;00m \u001b[38;5;129;01mnot\u001b[39;00m \u001b[38;5;28;01mNone\u001b[39;00m:\n\u001b[1;32m    870\u001b[0m         chunk \u001b[38;5;241m=\u001b[39m pending \u001b[38;5;241m+\u001b[39m chunk\n",
      "File \u001b[0;32m~/anaconda3/lib/python3.11/site-packages/requests/models.py:816\u001b[0m, in \u001b[0;36mResponse.iter_content.<locals>.generate\u001b[0;34m()\u001b[0m\n\u001b[1;32m    814\u001b[0m \u001b[38;5;28;01mif\u001b[39;00m \u001b[38;5;28mhasattr\u001b[39m(\u001b[38;5;28mself\u001b[39m\u001b[38;5;241m.\u001b[39mraw, \u001b[38;5;124m\"\u001b[39m\u001b[38;5;124mstream\u001b[39m\u001b[38;5;124m\"\u001b[39m):\n\u001b[1;32m    815\u001b[0m     \u001b[38;5;28;01mtry\u001b[39;00m:\n\u001b[0;32m--> 816\u001b[0m         \u001b[38;5;28;01myield from\u001b[39;00m \u001b[38;5;28mself\u001b[39m\u001b[38;5;241m.\u001b[39mraw\u001b[38;5;241m.\u001b[39mstream(chunk_size, decode_content\u001b[38;5;241m=\u001b[39m\u001b[38;5;28;01mTrue\u001b[39;00m)\n\u001b[1;32m    817\u001b[0m     \u001b[38;5;28;01mexcept\u001b[39;00m ProtocolError \u001b[38;5;28;01mas\u001b[39;00m e:\n\u001b[1;32m    818\u001b[0m         \u001b[38;5;28;01mraise\u001b[39;00m ChunkedEncodingError(e)\n",
      "File \u001b[0;32m~/anaconda3/lib/python3.11/site-packages/urllib3/response.py:624\u001b[0m, in \u001b[0;36mHTTPResponse.stream\u001b[0;34m(self, amt, decode_content)\u001b[0m\n\u001b[1;32m    608\u001b[0m \u001b[38;5;250m\u001b[39m\u001b[38;5;124;03m\"\"\"\u001b[39;00m\n\u001b[1;32m    609\u001b[0m \u001b[38;5;124;03mA generator wrapper for the read() method. A call will block until\u001b[39;00m\n\u001b[1;32m    610\u001b[0m \u001b[38;5;124;03m``amt`` bytes have been read from the connection or until the\u001b[39;00m\n\u001b[0;32m   (...)\u001b[0m\n\u001b[1;32m    621\u001b[0m \u001b[38;5;124;03m    'content-encoding' header.\u001b[39;00m\n\u001b[1;32m    622\u001b[0m \u001b[38;5;124;03m\"\"\"\u001b[39;00m\n\u001b[1;32m    623\u001b[0m \u001b[38;5;28;01mif\u001b[39;00m \u001b[38;5;28mself\u001b[39m\u001b[38;5;241m.\u001b[39mchunked \u001b[38;5;129;01mand\u001b[39;00m \u001b[38;5;28mself\u001b[39m\u001b[38;5;241m.\u001b[39msupports_chunked_reads():\n\u001b[0;32m--> 624\u001b[0m     \u001b[38;5;28;01mfor\u001b[39;00m line \u001b[38;5;129;01min\u001b[39;00m \u001b[38;5;28mself\u001b[39m\u001b[38;5;241m.\u001b[39mread_chunked(amt, decode_content\u001b[38;5;241m=\u001b[39mdecode_content):\n\u001b[1;32m    625\u001b[0m         \u001b[38;5;28;01myield\u001b[39;00m line\n\u001b[1;32m    626\u001b[0m \u001b[38;5;28;01melse\u001b[39;00m:\n",
      "File \u001b[0;32m~/anaconda3/lib/python3.11/site-packages/urllib3/response.py:828\u001b[0m, in \u001b[0;36mHTTPResponse.read_chunked\u001b[0;34m(self, amt, decode_content)\u001b[0m\n\u001b[1;32m    825\u001b[0m     \u001b[38;5;28;01mreturn\u001b[39;00m\n\u001b[1;32m    827\u001b[0m \u001b[38;5;28;01mwhile\u001b[39;00m \u001b[38;5;28;01mTrue\u001b[39;00m:\n\u001b[0;32m--> 828\u001b[0m     \u001b[38;5;28mself\u001b[39m\u001b[38;5;241m.\u001b[39m_update_chunk_length()\n\u001b[1;32m    829\u001b[0m     \u001b[38;5;28;01mif\u001b[39;00m \u001b[38;5;28mself\u001b[39m\u001b[38;5;241m.\u001b[39mchunk_left \u001b[38;5;241m==\u001b[39m \u001b[38;5;241m0\u001b[39m:\n\u001b[1;32m    830\u001b[0m         \u001b[38;5;28;01mbreak\u001b[39;00m\n",
      "File \u001b[0;32m~/anaconda3/lib/python3.11/site-packages/urllib3/response.py:758\u001b[0m, in \u001b[0;36mHTTPResponse._update_chunk_length\u001b[0;34m(self)\u001b[0m\n\u001b[1;32m    756\u001b[0m \u001b[38;5;28;01mif\u001b[39;00m \u001b[38;5;28mself\u001b[39m\u001b[38;5;241m.\u001b[39mchunk_left \u001b[38;5;129;01mis\u001b[39;00m \u001b[38;5;129;01mnot\u001b[39;00m \u001b[38;5;28;01mNone\u001b[39;00m:\n\u001b[1;32m    757\u001b[0m     \u001b[38;5;28;01mreturn\u001b[39;00m\n\u001b[0;32m--> 758\u001b[0m line \u001b[38;5;241m=\u001b[39m \u001b[38;5;28mself\u001b[39m\u001b[38;5;241m.\u001b[39m_fp\u001b[38;5;241m.\u001b[39mfp\u001b[38;5;241m.\u001b[39mreadline()\n\u001b[1;32m    759\u001b[0m line \u001b[38;5;241m=\u001b[39m line\u001b[38;5;241m.\u001b[39msplit(\u001b[38;5;124mb\u001b[39m\u001b[38;5;124m\"\u001b[39m\u001b[38;5;124m;\u001b[39m\u001b[38;5;124m\"\u001b[39m, \u001b[38;5;241m1\u001b[39m)[\u001b[38;5;241m0\u001b[39m]\n\u001b[1;32m    760\u001b[0m \u001b[38;5;28;01mtry\u001b[39;00m:\n",
      "File \u001b[0;32m~/anaconda3/lib/python3.11/socket.py:706\u001b[0m, in \u001b[0;36mSocketIO.readinto\u001b[0;34m(self, b)\u001b[0m\n\u001b[1;32m    704\u001b[0m \u001b[38;5;28;01mwhile\u001b[39;00m \u001b[38;5;28;01mTrue\u001b[39;00m:\n\u001b[1;32m    705\u001b[0m     \u001b[38;5;28;01mtry\u001b[39;00m:\n\u001b[0;32m--> 706\u001b[0m         \u001b[38;5;28;01mreturn\u001b[39;00m \u001b[38;5;28mself\u001b[39m\u001b[38;5;241m.\u001b[39m_sock\u001b[38;5;241m.\u001b[39mrecv_into(b)\n\u001b[1;32m    707\u001b[0m     \u001b[38;5;28;01mexcept\u001b[39;00m timeout:\n\u001b[1;32m    708\u001b[0m         \u001b[38;5;28mself\u001b[39m\u001b[38;5;241m.\u001b[39m_timeout_occurred \u001b[38;5;241m=\u001b[39m \u001b[38;5;28;01mTrue\u001b[39;00m\n",
      "\u001b[0;31mKeyboardInterrupt\u001b[0m: "
     ]
    }
   ],
   "source": [
    "for chunk in r.iter_lines():\n",
    "    print(f\"{chunk}\")"
   ]
  },
  {
   "cell_type": "code",
   "execution_count": null,
   "id": "eb061587",
   "metadata": {},
   "outputs": [],
   "source": []
  }
 ],
 "metadata": {
  "kernelspec": {
   "display_name": "Python 3 (ipykernel)",
   "language": "python",
   "name": "python3"
  },
  "language_info": {
   "codemirror_mode": {
    "name": "ipython",
    "version": 3
   },
   "file_extension": ".py",
   "mimetype": "text/x-python",
   "name": "python",
   "nbconvert_exporter": "python",
   "pygments_lexer": "ipython3",
   "version": "3.11.5"
  }
 },
 "nbformat": 4,
 "nbformat_minor": 5
}
